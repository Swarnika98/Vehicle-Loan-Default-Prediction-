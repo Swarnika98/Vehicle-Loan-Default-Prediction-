{
 "cells": [
  {
   "cell_type": "code",
   "execution_count": 1,
   "metadata": {},
   "outputs": [
    {
     "data": {
      "text/html": [
       "<div>\n",
       "<style scoped>\n",
       "    .dataframe tbody tr th:only-of-type {\n",
       "        vertical-align: middle;\n",
       "    }\n",
       "\n",
       "    .dataframe tbody tr th {\n",
       "        vertical-align: top;\n",
       "    }\n",
       "\n",
       "    .dataframe thead th {\n",
       "        text-align: right;\n",
       "    }\n",
       "</style>\n",
       "<table border=\"1\" class=\"dataframe\">\n",
       "  <thead>\n",
       "    <tr style=\"text-align: right;\">\n",
       "      <th></th>\n",
       "      <th>UNIQUEID</th>\n",
       "      <th>DISBURSED_AMOUNT</th>\n",
       "      <th>ASSET_COST</th>\n",
       "      <th>LTV</th>\n",
       "      <th>BRANCH_ID</th>\n",
       "      <th>SUPPLIER_ID</th>\n",
       "      <th>MANUFACTURER_ID</th>\n",
       "      <th>CURRENT_PINCODE_ID</th>\n",
       "      <th>DATE_OF_BIRTH</th>\n",
       "      <th>EMPLOYMENT_TYPE</th>\n",
       "      <th>...</th>\n",
       "      <th>SEC_SANCTIONED_AMOUNT</th>\n",
       "      <th>SEC_DISBURSED_AMOUNT</th>\n",
       "      <th>PRIMARY_INSTAL_AMT</th>\n",
       "      <th>SEC_INSTAL_AMT</th>\n",
       "      <th>NEW_ACCTS_IN_LAST_SIX_MONTHS</th>\n",
       "      <th>DELINQUENT_ACCTS_IN_LAST_SIX_MONTHS</th>\n",
       "      <th>AVERAGE_ACCT_AGE</th>\n",
       "      <th>CREDIT_HISTORY_LENGTH</th>\n",
       "      <th>NO_OF_INQUIRIES</th>\n",
       "      <th>LOAN_DEFAULT</th>\n",
       "    </tr>\n",
       "  </thead>\n",
       "  <tbody>\n",
       "    <tr>\n",
       "      <th>0</th>\n",
       "      <td>420825</td>\n",
       "      <td>50578</td>\n",
       "      <td>58400</td>\n",
       "      <td>89.55</td>\n",
       "      <td>67</td>\n",
       "      <td>22807</td>\n",
       "      <td>45</td>\n",
       "      <td>1441</td>\n",
       "      <td>01-01-1984</td>\n",
       "      <td>Salaried</td>\n",
       "      <td>...</td>\n",
       "      <td>0</td>\n",
       "      <td>0</td>\n",
       "      <td>0</td>\n",
       "      <td>0</td>\n",
       "      <td>0</td>\n",
       "      <td>0</td>\n",
       "      <td>0yrs 0mon</td>\n",
       "      <td>0yrs 0mon</td>\n",
       "      <td>0</td>\n",
       "      <td>0</td>\n",
       "    </tr>\n",
       "    <tr>\n",
       "      <th>1</th>\n",
       "      <td>537409</td>\n",
       "      <td>47145</td>\n",
       "      <td>65550</td>\n",
       "      <td>73.23</td>\n",
       "      <td>67</td>\n",
       "      <td>22807</td>\n",
       "      <td>45</td>\n",
       "      <td>1502</td>\n",
       "      <td>31-07-1985</td>\n",
       "      <td>Self employed</td>\n",
       "      <td>...</td>\n",
       "      <td>0</td>\n",
       "      <td>0</td>\n",
       "      <td>1991</td>\n",
       "      <td>0</td>\n",
       "      <td>0</td>\n",
       "      <td>1</td>\n",
       "      <td>1yrs 11mon</td>\n",
       "      <td>1yrs 11mon</td>\n",
       "      <td>0</td>\n",
       "      <td>1</td>\n",
       "    </tr>\n",
       "    <tr>\n",
       "      <th>2</th>\n",
       "      <td>417566</td>\n",
       "      <td>53278</td>\n",
       "      <td>61360</td>\n",
       "      <td>89.63</td>\n",
       "      <td>67</td>\n",
       "      <td>22807</td>\n",
       "      <td>45</td>\n",
       "      <td>1497</td>\n",
       "      <td>24-08-1985</td>\n",
       "      <td>Self employed</td>\n",
       "      <td>...</td>\n",
       "      <td>0</td>\n",
       "      <td>0</td>\n",
       "      <td>0</td>\n",
       "      <td>0</td>\n",
       "      <td>0</td>\n",
       "      <td>0</td>\n",
       "      <td>0yrs 0mon</td>\n",
       "      <td>0yrs 0mon</td>\n",
       "      <td>0</td>\n",
       "      <td>0</td>\n",
       "    </tr>\n",
       "    <tr>\n",
       "      <th>3</th>\n",
       "      <td>624493</td>\n",
       "      <td>57513</td>\n",
       "      <td>66113</td>\n",
       "      <td>88.48</td>\n",
       "      <td>67</td>\n",
       "      <td>22807</td>\n",
       "      <td>45</td>\n",
       "      <td>1501</td>\n",
       "      <td>30-12-1993</td>\n",
       "      <td>Self employed</td>\n",
       "      <td>...</td>\n",
       "      <td>0</td>\n",
       "      <td>0</td>\n",
       "      <td>31</td>\n",
       "      <td>0</td>\n",
       "      <td>0</td>\n",
       "      <td>0</td>\n",
       "      <td>0yrs 8mon</td>\n",
       "      <td>1yrs 3mon</td>\n",
       "      <td>1</td>\n",
       "      <td>1</td>\n",
       "    </tr>\n",
       "    <tr>\n",
       "      <th>4</th>\n",
       "      <td>539055</td>\n",
       "      <td>52378</td>\n",
       "      <td>60300</td>\n",
       "      <td>88.39</td>\n",
       "      <td>67</td>\n",
       "      <td>22807</td>\n",
       "      <td>45</td>\n",
       "      <td>1495</td>\n",
       "      <td>09-12-1977</td>\n",
       "      <td>Self employed</td>\n",
       "      <td>...</td>\n",
       "      <td>0</td>\n",
       "      <td>0</td>\n",
       "      <td>0</td>\n",
       "      <td>0</td>\n",
       "      <td>0</td>\n",
       "      <td>0</td>\n",
       "      <td>0yrs 0mon</td>\n",
       "      <td>0yrs 0mon</td>\n",
       "      <td>1</td>\n",
       "      <td>1</td>\n",
       "    </tr>\n",
       "  </tbody>\n",
       "</table>\n",
       "<p>5 rows × 41 columns</p>\n",
       "</div>"
      ],
      "text/plain": [
       "   UNIQUEID  DISBURSED_AMOUNT  ASSET_COST    LTV  BRANCH_ID  SUPPLIER_ID  \\\n",
       "0    420825             50578       58400  89.55         67        22807   \n",
       "1    537409             47145       65550  73.23         67        22807   \n",
       "2    417566             53278       61360  89.63         67        22807   \n",
       "3    624493             57513       66113  88.48         67        22807   \n",
       "4    539055             52378       60300  88.39         67        22807   \n",
       "\n",
       "   MANUFACTURER_ID  CURRENT_PINCODE_ID DATE_OF_BIRTH EMPLOYMENT_TYPE  ...  \\\n",
       "0               45                1441    01-01-1984        Salaried  ...   \n",
       "1               45                1502    31-07-1985   Self employed  ...   \n",
       "2               45                1497    24-08-1985   Self employed  ...   \n",
       "3               45                1501    30-12-1993   Self employed  ...   \n",
       "4               45                1495    09-12-1977   Self employed  ...   \n",
       "\n",
       "  SEC_SANCTIONED_AMOUNT  SEC_DISBURSED_AMOUNT  PRIMARY_INSTAL_AMT  \\\n",
       "0                     0                     0                   0   \n",
       "1                     0                     0                1991   \n",
       "2                     0                     0                   0   \n",
       "3                     0                     0                  31   \n",
       "4                     0                     0                   0   \n",
       "\n",
       "   SEC_INSTAL_AMT  NEW_ACCTS_IN_LAST_SIX_MONTHS  \\\n",
       "0               0                             0   \n",
       "1               0                             0   \n",
       "2               0                             0   \n",
       "3               0                             0   \n",
       "4               0                             0   \n",
       "\n",
       "   DELINQUENT_ACCTS_IN_LAST_SIX_MONTHS  AVERAGE_ACCT_AGE  \\\n",
       "0                                    0         0yrs 0mon   \n",
       "1                                    1        1yrs 11mon   \n",
       "2                                    0         0yrs 0mon   \n",
       "3                                    0         0yrs 8mon   \n",
       "4                                    0         0yrs 0mon   \n",
       "\n",
       "   CREDIT_HISTORY_LENGTH  NO_OF_INQUIRIES  LOAN_DEFAULT  \n",
       "0              0yrs 0mon                0             0  \n",
       "1             1yrs 11mon                0             1  \n",
       "2              0yrs 0mon                0             0  \n",
       "3              1yrs 3mon                1             1  \n",
       "4              0yrs 0mon                1             1  \n",
       "\n",
       "[5 rows x 41 columns]"
      ]
     },
     "execution_count": 1,
     "metadata": {},
     "output_type": "execute_result"
    }
   ],
   "source": [
    "#Importing libraries\n",
    "import pandas as pd\n",
    "import numpy as np\n",
    "import seaborn as sns\n",
    "import matplotlib.pyplot as plt\n",
    "\n",
    "#Importing data\n",
    "df= pd.read_csv('C:/Users/A K Fuley/Downloads/Capstone/VLT data.csv')\n",
    "df.head()"
   ]
  },
  {
   "cell_type": "markdown",
   "metadata": {
    "id": "nd-iJIeliz5h"
   },
   "source": [
    "#EDA"
   ]
  },
  {
   "cell_type": "code",
   "execution_count": 2,
   "metadata": {
    "colab": {
     "base_uri": "https://localhost:8080/"
    },
    "id": "beJFI6vCewZ5",
    "outputId": "c9f5c67b-4e4b-4704-f57b-542f04b7405e"
   },
   "outputs": [
    {
     "name": "stdout",
     "output_type": "stream",
     "text": [
      "(233154, 41)\n"
     ]
    }
   ],
   "source": [
    "print(df.shape)          #checking for no of rows and columns in the dataset"
   ]
  },
  {
   "cell_type": "code",
   "execution_count": 3,
   "metadata": {
    "colab": {
     "base_uri": "https://localhost:8080/"
    },
    "id": "Pib5K3KCe6eQ",
    "outputId": "9c4b0188-08e8-47fe-d96b-cf59ce135705"
   },
   "outputs": [
    {
     "data": {
      "text/plain": [
       "UNIQUEID                                  0\n",
       "DISBURSED_AMOUNT                          0\n",
       "ASSET_COST                                0\n",
       "LTV                                       0\n",
       "BRANCH_ID                                 0\n",
       "SUPPLIER_ID                               0\n",
       "MANUFACTURER_ID                           0\n",
       "CURRENT_PINCODE_ID                        0\n",
       "DATE_OF_BIRTH                             0\n",
       "EMPLOYMENT_TYPE                        7661\n",
       "DISBURSAL_DATE                            0\n",
       "STATE_ID                                  0\n",
       "EMPLOYEE_CODE_ID                          0\n",
       "MOBILENO_AVL_FLAG                         0\n",
       "AADHAR_FLAG                               0\n",
       "PAN_FLAG                                  0\n",
       "VOTERID_FLAG                              0\n",
       "DRIVING_FLAG                              0\n",
       "PASSPORT_FLAG                             0\n",
       "PERFORM_CNS_SCORE                         0\n",
       "PERFORM_CNS_SCORE_DESCRIPTION             0\n",
       "PRI_NO_OF_ACCTS                           0\n",
       "PRI_ACTIVE_ACCTS                          0\n",
       "PRI_OVERDUE_ACCTS                         0\n",
       "PRI_CURRENT_BALANCE                       0\n",
       "PRI_SANCTIONED_AMOUNT                     0\n",
       "PRI_DISBURSED_AMOUNT                      0\n",
       "SEC_NO_OF_ACCTS                           0\n",
       "SEC_ACTIVE_ACCTS                          0\n",
       "SEC_OVERDUE_ACCTS                         0\n",
       "SEC_CURRENT_BALANCE                       0\n",
       "SEC_SANCTIONED_AMOUNT                     0\n",
       "SEC_DISBURSED_AMOUNT                      0\n",
       "PRIMARY_INSTAL_AMT                        0\n",
       "SEC_INSTAL_AMT                            0\n",
       "NEW_ACCTS_IN_LAST_SIX_MONTHS              0\n",
       "DELINQUENT_ACCTS_IN_LAST_SIX_MONTHS       0\n",
       "AVERAGE_ACCT_AGE                          0\n",
       "CREDIT_HISTORY_LENGTH                     0\n",
       "NO_OF_INQUIRIES                           0\n",
       "LOAN_DEFAULT                              0\n",
       "dtype: int64"
      ]
     },
     "execution_count": 3,
     "metadata": {},
     "output_type": "execute_result"
    }
   ],
   "source": [
    "df.isna().sum()         #checking for presenc of null values ,if any"
   ]
  },
  {
   "cell_type": "markdown",
   "metadata": {
    "id": "R3792be7uR_g"
   },
   "source": [
    "Most of the missing values are present in the EMPLOYMENT_TYPE, lets calculate the percentage of missing values to determine how to treat it."
   ]
  },
  {
   "cell_type": "code",
   "execution_count": 4,
   "metadata": {
    "colab": {
     "base_uri": "https://localhost:8080/"
    },
    "id": "uBGCwRbBugEo",
    "outputId": "d0aacf32-4162-41d2-ad70-81c320e724cc"
   },
   "outputs": [
    {
     "name": "stdout",
     "output_type": "stream",
     "text": [
      "3.2858110948128703\n"
     ]
    }
   ],
   "source": [
    "missing_values= df['EMPLOYMENT_TYPE'].isna().sum()\n",
    "total_values= len(df['EMPLOYMENT_TYPE'])\n",
    "Percent_isna= (missing_values/total_values)*100\n",
    "print(Percent_isna)"
   ]
  },
  {
   "cell_type": "code",
   "execution_count": 5,
   "metadata": {
    "colab": {
     "base_uri": "https://localhost:8080/"
    },
    "id": "s1f8NN0FfypD",
    "outputId": "e5cbeec8-4b52-434b-ee87-430a4f361bea"
   },
   "outputs": [
    {
     "data": {
      "text/plain": [
       "UNIQUEID                                 int64\n",
       "DISBURSED_AMOUNT                         int64\n",
       "ASSET_COST                               int64\n",
       "LTV                                    float64\n",
       "BRANCH_ID                                int64\n",
       "SUPPLIER_ID                              int64\n",
       "MANUFACTURER_ID                          int64\n",
       "CURRENT_PINCODE_ID                       int64\n",
       "DATE_OF_BIRTH                           object\n",
       "EMPLOYMENT_TYPE                         object\n",
       "DISBURSAL_DATE                          object\n",
       "STATE_ID                                 int64\n",
       "EMPLOYEE_CODE_ID                         int64\n",
       "MOBILENO_AVL_FLAG                        int64\n",
       "AADHAR_FLAG                              int64\n",
       "PAN_FLAG                                 int64\n",
       "VOTERID_FLAG                             int64\n",
       "DRIVING_FLAG                             int64\n",
       "PASSPORT_FLAG                            int64\n",
       "PERFORM_CNS_SCORE                        int64\n",
       "PERFORM_CNS_SCORE_DESCRIPTION           object\n",
       "PRI_NO_OF_ACCTS                          int64\n",
       "PRI_ACTIVE_ACCTS                         int64\n",
       "PRI_OVERDUE_ACCTS                        int64\n",
       "PRI_CURRENT_BALANCE                      int64\n",
       "PRI_SANCTIONED_AMOUNT                    int64\n",
       "PRI_DISBURSED_AMOUNT                     int64\n",
       "SEC_NO_OF_ACCTS                          int64\n",
       "SEC_ACTIVE_ACCTS                         int64\n",
       "SEC_OVERDUE_ACCTS                        int64\n",
       "SEC_CURRENT_BALANCE                      int64\n",
       "SEC_SANCTIONED_AMOUNT                    int64\n",
       "SEC_DISBURSED_AMOUNT                     int64\n",
       "PRIMARY_INSTAL_AMT                       int64\n",
       "SEC_INSTAL_AMT                           int64\n",
       "NEW_ACCTS_IN_LAST_SIX_MONTHS             int64\n",
       "DELINQUENT_ACCTS_IN_LAST_SIX_MONTHS      int64\n",
       "AVERAGE_ACCT_AGE                        object\n",
       "CREDIT_HISTORY_LENGTH                   object\n",
       "NO_OF_INQUIRIES                          int64\n",
       "LOAN_DEFAULT                             int64\n",
       "dtype: object"
      ]
     },
     "execution_count": 5,
     "metadata": {},
     "output_type": "execute_result"
    }
   ],
   "source": [
    "df.dtypes                        #data types of the column"
   ]
  },
  {
   "cell_type": "code",
   "execution_count": 6,
   "metadata": {
    "colab": {
     "base_uri": "https://localhost:8080/",
     "height": 352
    },
    "id": "BaIieP-xrb6N",
    "outputId": "4400e55b-ddcb-48b6-f27b-b882b9f42892"
   },
   "outputs": [
    {
     "name": "stderr",
     "output_type": "stream",
     "text": [
      "C:\\Users\\A K Fuley\\anaconda3\\lib\\site-packages\\seaborn\\_decorators.py:36: FutureWarning: Pass the following variable as a keyword arg: x. From version 0.12, the only valid positional argument will be `data`, and passing other arguments without an explicit keyword will result in an error or misinterpretation.\n",
      "  warnings.warn(\n"
     ]
    },
    {
     "data": {
      "text/plain": [
       "<AxesSubplot:xlabel='EMPLOYMENT_TYPE', ylabel='count'>"
      ]
     },
     "execution_count": 6,
     "metadata": {},
     "output_type": "execute_result"
    },
    {
     "data": {
      "image/png": "[encoded data removed]",
      "text/plain": [
       "<Figure size 432x288 with 1 Axes>"
      ]
     },
     "metadata": {
      "needs_background": "light"
     },
     "output_type": "display_data"
    }
   ],
   "source": [
    "df['EMPLOYMENT_TYPE'].value_counts()                #check the count of categories in EMPLOYMENT_TYPE column\n",
    "\n",
    "sns.countplot(df['EMPLOYMENT_TYPE'])"
   ]
  },
  {
   "cell_type": "code",
   "execution_count": 7,
   "metadata": {
    "colab": {
     "base_uri": "https://localhost:8080/",
     "height": 288
    },
    "id": "cb9hQQrHkg7p",
    "outputId": "726d5ec4-9316-4b2c-b9d5-7e3f523eb60f"
   },
   "outputs": [
    {
     "data": {
      "text/plain": [
       "<AxesSubplot:>"
      ]
     },
     "execution_count": 7,
     "metadata": {},
     "output_type": "execute_result"
    },
    {
     "data": {
      "image/png": "[encoded data removed]",
      "text/plain": [
       "<Figure size 432x288 with 1 Axes>"
      ]
     },
     "metadata": {
      "needs_background": "light"
     },
     "output_type": "display_data"
    }
   ],
   "source": [
    "#Checking if the data is balanced or imbalanced\n",
    "import matplotlib.pyplot as plt\n",
    "df['LOAN_DEFAULT'].value_counts(normalize=True).plot(kind='bar')"
   ]
  },
  {
   "cell_type": "markdown",
   "metadata": {
    "id": "lknu4YugDNNu"
   },
   "source": [
    "Its an imbalanced dataset. 80% of the data is for not default loans and only 20% is for default loan transaction."
   ]
  },
  {
   "cell_type": "code",
   "execution_count": 8,
   "metadata": {
    "colab": {
     "base_uri": "https://localhost:8080/",
     "height": 519
    },
    "id": "ot6T0fbs8xdV",
    "outputId": "30c4d42d-608a-4f4f-eab9-227b8bbc1951"
   },
   "outputs": [
    {
     "name": "stdout",
     "output_type": "stream",
     "text": [
      "count    233154.000000\n",
      "mean      54356.993528\n",
      "std       12971.314171\n",
      "min       13320.000000\n",
      "25%       47145.000000\n",
      "50%       53803.000000\n",
      "75%       60413.000000\n",
      "max      990572.000000\n",
      "Name: DISBURSED_AMOUNT, dtype: float64\n"
     ]
    },
    {
     "name": "stderr",
     "output_type": "stream",
     "text": [
      "C:\\Users\\A K Fuley\\anaconda3\\lib\\site-packages\\seaborn\\distributions.py:2619: FutureWarning: `distplot` is a deprecated function and will be removed in a future version. Please adapt your code to use either `displot` (a figure-level function with similar flexibility) or `histplot` (an axes-level function for histograms).\n",
      "  warnings.warn(msg, FutureWarning)\n"
     ]
    },
    {
     "data": {
      "text/plain": [
       "<AxesSubplot:xlabel='DISBURSED_AMOUNT', ylabel='Density'>"
      ]
     },
     "execution_count": 8,
     "metadata": {},
     "output_type": "execute_result"
    },
    {
     "data": {
      "image/png": "[encoded data removed]",
      "text/plain": [
       "<Figure size 432x288 with 1 Axes>"
      ]
     },
     "metadata": {
      "needs_background": "light"
     },
     "output_type": "display_data"
    }
   ],
   "source": [
    "print(df['DISBURSED_AMOUNT'].describe())\n",
    "sns.distplot(df['DISBURSED_AMOUNT'],color='Green')"
   ]
  },
  {
   "cell_type": "code",
   "execution_count": 9,
   "metadata": {
    "colab": {
     "base_uri": "https://localhost:8080/",
     "height": 265
    },
    "id": "HBLCsjeVC11R",
    "outputId": "40d423f9-6084-4c48-eb59-cde2937b3e81"
   },
   "outputs": [
    {
     "data": {
      "image/png": "[encoded data removed]",
      "text/plain": [
       "<Figure size 432x288 with 1 Axes>"
      ]
     },
     "metadata": {
      "needs_background": "light"
     },
     "output_type": "display_data"
    }
   ],
   "source": [
    "plt.boxplot(df['DISBURSED_AMOUNT'])\n",
    "plt.show()"
   ]
  },
  {
   "cell_type": "code",
   "execution_count": 10,
   "metadata": {
    "colab": {
     "base_uri": "https://localhost:8080/",
     "height": 519
    },
    "id": "hDc-X0RuD-0P",
    "outputId": "47cb1cca-bdb2-4123-c201-0484516191cd"
   },
   "outputs": [
    {
     "name": "stdout",
     "output_type": "stream",
     "text": [
      "count    2.331540e+05\n",
      "mean     7.586507e+04\n",
      "std      1.894478e+04\n",
      "min      3.700000e+04\n",
      "25%      6.571700e+04\n",
      "50%      7.094600e+04\n",
      "75%      7.920175e+04\n",
      "max      1.628992e+06\n",
      "Name: ASSET_COST, dtype: float64\n"
     ]
    },
    {
     "name": "stderr",
     "output_type": "stream",
     "text": [
      "C:\\Users\\A K Fuley\\anaconda3\\lib\\site-packages\\seaborn\\distributions.py:2619: FutureWarning: `distplot` is a deprecated function and will be removed in a future version. Please adapt your code to use either `displot` (a figure-level function with similar flexibility) or `histplot` (an axes-level function for histograms).\n",
      "  warnings.warn(msg, FutureWarning)\n"
     ]
    },
    {
     "data": {
      "text/plain": [
       "<AxesSubplot:xlabel='ASSET_COST', ylabel='Density'>"
      ]
     },
     "execution_count": 10,
     "metadata": {},
     "output_type": "execute_result"
    },
    {
     "data": {
      "image/png": "[encoded data removed]",
      "text/plain": [
       "<Figure size 432x288 with 1 Axes>"
      ]
     },
     "metadata": {
      "needs_background": "light"
     },
     "output_type": "display_data"
    }
   ],
   "source": [
    "print(df['ASSET_COST'].describe())\n",
    "sns.distplot(df['ASSET_COST'],color='Red')"
   ]
  },
  {
   "cell_type": "code",
   "execution_count": 11,
   "metadata": {
    "colab": {
     "base_uri": "https://localhost:8080/",
     "height": 265
    },
    "id": "duvJl7s7xUc2",
    "outputId": "9c0570a3-56b0-4d9f-b1d7-a273258ec511"
   },
   "outputs": [
    {
     "data": {
      "image/png": "[encoded data removed]",
      "text/plain": [
       "<Figure size 432x288 with 1 Axes>"
      ]
     },
     "metadata": {
      "needs_background": "light"
     },
     "output_type": "display_data"
    }
   ],
   "source": [
    "plt.boxplot(df['ASSET_COST'])\n",
    "plt.show()"
   ]
  },
  {
   "cell_type": "code",
   "execution_count": 12,
   "metadata": {
    "colab": {
     "base_uri": "https://localhost:8080/",
     "height": 352
    },
    "id": "SXys7afhxljW",
    "outputId": "e6c516f4-0f5e-4724-f1aa-541b4a29d409"
   },
   "outputs": [
    {
     "name": "stderr",
     "output_type": "stream",
     "text": [
      "C:\\Users\\A K Fuley\\anaconda3\\lib\\site-packages\\seaborn\\distributions.py:2619: FutureWarning: `distplot` is a deprecated function and will be removed in a future version. Please adapt your code to use either `displot` (a figure-level function with similar flexibility) or `histplot` (an axes-level function for histograms).\n",
      "  warnings.warn(msg, FutureWarning)\n"
     ]
    },
    {
     "data": {
      "text/plain": [
       "<AxesSubplot:xlabel='LTV', ylabel='Density'>"
      ]
     },
     "execution_count": 12,
     "metadata": {},
     "output_type": "execute_result"
    },
    {
     "data": {
      "image/png": "[encoded data removed]",
      "text/plain": [
       "<Figure size 432x288 with 1 Axes>"
      ]
     },
     "metadata": {
      "needs_background": "light"
     },
     "output_type": "display_data"
    }
   ],
   "source": [
    "sns.distplot(df['LTV'], color='blue')"
   ]
  },
  {
   "cell_type": "code",
   "execution_count": 13,
   "metadata": {
    "colab": {
     "base_uri": "https://localhost:8080/",
     "height": 351
    },
    "id": "_VmkgQhpys6D",
    "outputId": "42868f4f-130c-46ae-9fc2-d250360dcc50"
   },
   "outputs": [
    {
     "name": "stderr",
     "output_type": "stream",
     "text": [
      "C:\\Users\\A K Fuley\\anaconda3\\lib\\site-packages\\seaborn\\_decorators.py:36: FutureWarning: Pass the following variable as a keyword arg: x. From version 0.12, the only valid positional argument will be `data`, and passing other arguments without an explicit keyword will result in an error or misinterpretation.\n",
      "  warnings.warn(\n"
     ]
    },
    {
     "data": {
      "text/plain": [
       "<AxesSubplot:xlabel='LTV'>"
      ]
     },
     "execution_count": 13,
     "metadata": {},
     "output_type": "execute_result"
    },
    {
     "data": {
      "image/png": "[encoded data removed]",
      "text/plain": [
       "<Figure size 432x288 with 1 Axes>"
      ]
     },
     "metadata": {
      "needs_background": "light"
     },
     "output_type": "display_data"
    }
   ],
   "source": [
    "sns.boxplot(df['LTV'])"
   ]
  },
  {
   "cell_type": "code",
   "execution_count": 14,
   "metadata": {
    "colab": {
     "base_uri": "https://localhost:8080/",
     "height": 352
    },
    "id": "xfbchoXXznFJ",
    "outputId": "9ca11ec9-268d-4256-8294-b01d1444533e"
   },
   "outputs": [
    {
     "name": "stderr",
     "output_type": "stream",
     "text": [
      "C:\\Users\\A K Fuley\\anaconda3\\lib\\site-packages\\seaborn\\distributions.py:2619: FutureWarning: `distplot` is a deprecated function and will be removed in a future version. Please adapt your code to use either `displot` (a figure-level function with similar flexibility) or `histplot` (an axes-level function for histograms).\n",
      "  warnings.warn(msg, FutureWarning)\n"
     ]
    },
    {
     "data": {
      "text/plain": [
       "<AxesSubplot:xlabel='PERFORM_CNS_SCORE', ylabel='Density'>"
      ]
     },
     "execution_count": 14,
     "metadata": {},
     "output_type": "execute_result"
    },
    {
     "data": {
      "image/png": "[encoded data removed]",
      "text/plain": [
       "<Figure size 432x288 with 1 Axes>"
      ]
     },
     "metadata": {
      "needs_background": "light"
     },
     "output_type": "display_data"
    }
   ],
   "source": [
    "sns.distplot(df['PERFORM_CNS_SCORE'],color='blue')"
   ]
  },
  {
   "cell_type": "code",
   "execution_count": 15,
   "metadata": {
    "colab": {
     "base_uri": "https://localhost:8080/",
     "height": 265
    },
    "id": "y6TYoAEq0MNV",
    "outputId": "e0b64b47-3252-4539-bd45-45a164fd6ba3"
   },
   "outputs": [
    {
     "data": {
      "image/png": "[encoded data removed]",
      "text/plain": [
       "<Figure size 432x288 with 1 Axes>"
      ]
     },
     "metadata": {
      "needs_background": "light"
     },
     "output_type": "display_data"
    }
   ],
   "source": [
    "plt.boxplot(df['PERFORM_CNS_SCORE'])\n",
    "plt.show()"
   ]
  },
  {
   "cell_type": "code",
   "execution_count": 16,
   "metadata": {
    "colab": {
     "base_uri": "https://localhost:8080/"
    },
    "id": "3eyAQSlZ0ffW",
    "outputId": "6cd05b92-4344-479b-8990-166ad5d1a3e2"
   },
   "outputs": [
    {
     "data": {
      "text/plain": [
       "No Bureau History Available                                116950\n",
       "C-Very Low Risk                                             16045\n",
       "A-Very Low Risk                                             14124\n",
       "D-Very Low Risk                                             11358\n",
       "B-Very Low Risk                                              9201\n",
       "M-Very High Risk                                             8776\n",
       "F-Low Risk                                                   8485\n",
       "K-High Risk                                                  8277\n",
       "H-Medium Risk                                                6855\n",
       "E-Low Risk                                                   5821\n",
       "I-Medium Risk                                                5557\n",
       "G-Low Risk                                                   3988\n",
       "Not Scored: Sufficient History Not Available                 3765\n",
       "J-High Risk                                                  3748\n",
       "Not Scored: Not Enough Info available on the customer        3672\n",
       "Not Scored: No Activity seen on the customer (Inactive)      2885\n",
       "Not Scored: No Updates available in last 36 months           1534\n",
       "L-Very High Risk                                             1134\n",
       "Not Scored: Only a Guarantor                                  976\n",
       "Not Scored: More than 50 active Accounts found                  3\n",
       "Name: PERFORM_CNS_SCORE_DESCRIPTION, dtype: int64"
      ]
     },
     "execution_count": 16,
     "metadata": {},
     "output_type": "execute_result"
    }
   ],
   "source": [
    "df['PERFORM_CNS_SCORE_DESCRIPTION'].value_counts(normalize=False)"
   ]
  },
  {
   "cell_type": "markdown",
   "metadata": {
    "id": "-hLmb_Wjn00y"
   },
   "source": [
    "Lets perform auto eda with sweetviz for quicker analysis"
   ]
  },
  {
   "cell_type": "code",
   "execution_count": 17,
   "metadata": {
    "colab": {
     "base_uri": "https://localhost:8080/"
    },
    "id": "CRz9M9-VpL8f",
    "outputId": "dfa2049d-ad45-4401-a333-2fab5bdbe735"
   },
   "outputs": [
    {
     "name": "stdout",
     "output_type": "stream",
     "text": [
      "Collecting sweetviz\n",
      "  Downloading sweetviz-2.1.4-py3-none-any.whl (15.1 MB)\n",
      "Requirement already satisfied: jinja2>=2.11.1 in c:\\users\\a k fuley\\anaconda3\\lib\\site-packages (from sweetviz) (2.11.3)\n",
      "Requirement already satisfied: matplotlib>=3.1.3 in c:\\users\\a k fuley\\anaconda3\\lib\\site-packages (from sweetviz) (3.4.2)\n",
      "Requirement already satisfied: pandas!=1.0.0,!=1.0.1,!=1.0.2,>=0.25.3 in c:\\users\\a k fuley\\anaconda3\\lib\\site-packages (from sweetviz) (1.3.3)\n",
      "Requirement already satisfied: numpy>=1.16.0 in c:\\users\\a k fuley\\anaconda3\\lib\\site-packages (from sweetviz) (1.21.2)\n",
      "Requirement already satisfied: tqdm>=4.43.0 in c:\\users\\a k fuley\\anaconda3\\lib\\site-packages (from sweetviz) (4.62.2)\n",
      "Collecting importlib-resources>=1.2.0\n",
      "  Downloading importlib_resources-5.12.0-py3-none-any.whl (36 kB)\n",
      "Requirement already satisfied: scipy>=1.3.2 in c:\\users\\a k fuley\\anaconda3\\lib\\site-packages (from sweetviz) (1.7.1)\n",
      "Requirement already satisfied: zipp>=3.1.0 in c:\\users\\a k fuley\\anaconda3\\lib\\site-packages (from importlib-resources>=1.2.0->sweetviz) (3.6.0)\n",
      "Requirement already satisfied: MarkupSafe>=0.23 in c:\\users\\a k fuley\\anaconda3\\lib\\site-packages (from jinja2>=2.11.1->sweetviz) (2.0.1)\n",
      "Requirement already satisfied: python-dateutil>=2.7 in c:\\users\\a k fuley\\anaconda3\\lib\\site-packages (from matplotlib>=3.1.3->sweetviz) (2.8.2)\n",
      "Requirement already satisfied: pillow>=6.2.0 in c:\\users\\a k fuley\\anaconda3\\lib\\site-packages (from matplotlib>=3.1.3->sweetviz) (8.3.1)\n",
      "Requirement already satisfied: kiwisolver>=1.0.1 in c:\\users\\a k fuley\\anaconda3\\lib\\site-packages (from matplotlib>=3.1.3->sweetviz) (1.3.1)\n",
      "Requirement already satisfied: cycler>=0.10 in c:\\users\\a k fuley\\anaconda3\\lib\\site-packages (from matplotlib>=3.1.3->sweetviz) (0.10.0)\n",
      "Requirement already satisfied: pyparsing>=2.2.1 in c:\\users\\a k fuley\\anaconda3\\lib\\site-packages (from matplotlib>=3.1.3->sweetviz) (2.4.7)\n",
      "Requirement already satisfied: six in c:\\users\\a k fuley\\anaconda3\\lib\\site-packages (from cycler>=0.10->matplotlib>=3.1.3->sweetviz) (1.16.0)\n",
      "Requirement already satisfied: pytz>=2017.3 in c:\\users\\a k fuley\\anaconda3\\lib\\site-packages (from pandas!=1.0.0,!=1.0.1,!=1.0.2,>=0.25.3->sweetviz) (2021.3)\n",
      "Requirement already satisfied: colorama in c:\\users\\a k fuley\\anaconda3\\lib\\site-packages (from tqdm>=4.43.0->sweetviz) (0.4.4)\n",
      "Installing collected packages: importlib-resources, sweetviz\n",
      "Successfully installed importlib-resources-5.12.0 sweetviz-2.1.4\n"
     ]
    }
   ],
   "source": [
    "!pip install sweetviz"
   ]
  },
  {
   "cell_type": "code",
   "execution_count": 18,
   "metadata": {
    "colab": {
     "base_uri": "https://localhost:8080/",
     "height": 66,
     "referenced_widgets": [
      "ff5eb3534bcc49a98aff7ff3bb18aded",
      "999870b23f9c4f2f9a89632423ed5385",
      "4e30d9e5fc744d1f844e8bd1a3fcd80e",
      "eae9b6e6c4a04aa8bd830faace6489a1",
      "6766bebb8579426a8a4b4c7315f806b7",
      "73a1f2a73bcb445d926c5ac272e2093b",
      "da15eb5cc14e4915a22657a710fa4760",
      "bd8a506795bf4d4b8abe42bf56cf35dc",
      "56f6e97ed2cb46749cf08ab4ec1f52a7",
      "951e708d5d4142c8b4afd94ab174c1bd",
      "e74d6f2f882141dfb60a9e7dfa9f145b"
     ]
    },
    "id": "AnP4Y6TQpSAY",
    "outputId": "5219750b-d045-458d-8a86-ac876a6ac2be"
   },
   "outputs": [
    {
     "data": {
      "application/vnd.jupyter.widget-view+json": {
       "model_id": "8c39f06e33be48ecad7c52cd51bc7ff7",
       "version_major": 2,
       "version_minor": 0
      },
      "text/plain": [
       "                                             |                                             | [  0%]   00:00 ->…"
      ]
     },
     "metadata": {},
     "output_type": "display_data"
    },
    {
     "name": "stdout",
     "output_type": "stream",
     "text": [
      "Report SweetVIZ report.html was generated! NOTEBOOK/COLAB USERS: the web browser MAY not pop up, regardless, the report IS saved in your notebook/colab files.\n"
     ]
    }
   ],
   "source": [
    "import sweetviz as sv\n",
    "# generate a report\n",
    "report = sv.analyze(df)\n",
    "\n",
    "# display the report\n",
    "report.show_html('SweetVIZ report.html')"
   ]
  },
  {
   "cell_type": "markdown",
   "metadata": {
    "id": "7f_M5py4hzkP"
   },
   "source": [
    "#Lets do some bivariate boxplot analysis"
   ]
  },
  {
   "cell_type": "code",
   "execution_count": 19,
   "metadata": {
    "colab": {
     "base_uri": "https://localhost:8080/",
     "height": 523
    },
    "id": "WAS91IsnwlaT",
    "outputId": "6e973954-0721-4f26-e786-8c546c6c2a8a"
   },
   "outputs": [
    {
     "data": {
      "text/plain": [
       "<seaborn.axisgrid.FacetGrid at 0x1be188786d0>"
      ]
     },
     "execution_count": 19,
     "metadata": {},
     "output_type": "execute_result"
    },
    {
     "data": {
      "image/png": "[encoded data removed]",
      "text/plain": [
       "<Figure size 612.861x500 with 1 Axes>"
      ]
     },
     "metadata": {},
     "output_type": "display_data"
    }
   ],
   "source": [
    "sns.catplot(data=df,kind='count',x='EMPLOYMENT_TYPE',hue='LOAN_DEFAULT')"
   ]
  },
  {
   "cell_type": "code",
   "execution_count": 20,
   "metadata": {
    "colab": {
     "base_uri": "https://localhost:8080/",
     "height": 415
    },
    "id": "2OVNxRDqh6s5",
    "outputId": "a2910331-38b7-4758-fdf3-04a4faada60a"
   },
   "outputs": [
    {
     "data": {
      "text/plain": [
       "Text(0, 0.5, 'Column Values')"
      ]
     },
     "execution_count": 20,
     "metadata": {},
     "output_type": "execute_result"
    },
    {
     "data": {
      "image/png": "[encoded data removed]",
      "text/plain": [
       "<Figure size 600x400 with 1 Axes>"
      ]
     },
     "metadata": {},
     "output_type": "display_data"
    }
   ],
   "source": [
    "\n",
    "x = 'LOAN_DEFAULT'\n",
    "y = ['DISBURSED_AMOUNT', 'ASSET_COST'] # specify the columns you want to analyze\n",
    "new_data = pd.melt(df[y + [x]], id_vars=[x], value_vars=y)\n",
    "sns.boxplot(x=x, y='value', hue='variable', data=new_data)\n",
    "sns.set_style('whitegrid')\n",
    "sns.set_palette('Set2')\n",
    "\n",
    "sns.boxplot(x=x, y='value', hue='variable', data=new_data)\n",
    "\n",
    "plt.title('Bivariate Boxplot Analysis')\n",
    "plt.xlabel('Target Variable')\n",
    "plt.ylabel('Column Values')\n"
   ]
  },
  {
   "cell_type": "markdown",
   "metadata": {
    "id": "EGMUtUfXq6Hc"
   },
   "source": [
    "#Data Preprocessing\n",
    "\n",
    "Since the EMPLOYMENT_TYPE contains more than 4% of missing values , we will not be dropping that data. Rather, we shall be performing mode imputation"
   ]
  },
  {
   "cell_type": "code",
   "execution_count": 21,
   "metadata": {
    "colab": {
     "base_uri": "https://localhost:8080/"
    },
    "id": "zlhY6SMDM-Xp",
    "outputId": "e4d38467-4ef4-4aad-b6ae-386343cca092"
   },
   "outputs": [
    {
     "name": "stdout",
     "output_type": "stream",
     "text": [
      "UNIQUEID                               0\n",
      "DISBURSED_AMOUNT                       0\n",
      "ASSET_COST                             0\n",
      "LTV                                    0\n",
      "BRANCH_ID                              0\n",
      "SUPPLIER_ID                            0\n",
      "MANUFACTURER_ID                        0\n",
      "CURRENT_PINCODE_ID                     0\n",
      "DATE_OF_BIRTH                          0\n",
      "EMPLOYMENT_TYPE                        0\n",
      "DISBURSAL_DATE                         0\n",
      "STATE_ID                               0\n",
      "EMPLOYEE_CODE_ID                       0\n",
      "MOBILENO_AVL_FLAG                      0\n",
      "AADHAR_FLAG                            0\n",
      "PAN_FLAG                               0\n",
      "VOTERID_FLAG                           0\n",
      "DRIVING_FLAG                           0\n",
      "PASSPORT_FLAG                          0\n",
      "PERFORM_CNS_SCORE                      0\n",
      "PERFORM_CNS_SCORE_DESCRIPTION          0\n",
      "PRI_NO_OF_ACCTS                        0\n",
      "PRI_ACTIVE_ACCTS                       0\n",
      "PRI_OVERDUE_ACCTS                      0\n",
      "PRI_CURRENT_BALANCE                    0\n",
      "PRI_SANCTIONED_AMOUNT                  0\n",
      "PRI_DISBURSED_AMOUNT                   0\n",
      "SEC_NO_OF_ACCTS                        0\n",
      "SEC_ACTIVE_ACCTS                       0\n",
      "SEC_OVERDUE_ACCTS                      0\n",
      "SEC_CURRENT_BALANCE                    0\n",
      "SEC_SANCTIONED_AMOUNT                  0\n",
      "SEC_DISBURSED_AMOUNT                   0\n",
      "PRIMARY_INSTAL_AMT                     0\n",
      "SEC_INSTAL_AMT                         0\n",
      "NEW_ACCTS_IN_LAST_SIX_MONTHS           0\n",
      "DELINQUENT_ACCTS_IN_LAST_SIX_MONTHS    0\n",
      "AVERAGE_ACCT_AGE                       0\n",
      "CREDIT_HISTORY_LENGTH                  0\n",
      "NO_OF_INQUIRIES                        0\n",
      "LOAN_DEFAULT                           0\n",
      "dtype: int64\n"
     ]
    }
   ],
   "source": [
    "# fill missing values in Employment Type column with mode\n",
    "employment_mode = df['EMPLOYMENT_TYPE'].mode()[0]\n",
    "df['EMPLOYMENT_TYPE'].fillna(employment_mode, inplace=True)\n",
    "\n",
    "# print the imputed dataframe\n",
    "print(df.isna().sum())"
   ]
  },
  {
   "cell_type": "code",
   "execution_count": 22,
   "metadata": {
    "id": "v-6fSU78KHH6"
   },
   "outputs": [],
   "source": [
    "#Dropping the rest of the rows with missing values(very very small percent of data)\n",
    "df=df.dropna()"
   ]
  },
  {
   "cell_type": "markdown",
   "metadata": {
    "id": "CqKRWoPTQjU_"
   },
   "source": [
    "Unique id column cannot add any value while model building , so dropping the unique id column"
   ]
  },
  {
   "cell_type": "code",
   "execution_count": 23,
   "metadata": {
    "id": "pVVFYdr9Qw_E"
   },
   "outputs": [],
   "source": [
    "df=df.drop('UNIQUEID',axis=1)\n"
   ]
  },
  {
   "cell_type": "markdown",
   "metadata": {
    "id": "BVRyGwiJWWsV"
   },
   "source": [
    "#Transforming the date type columns into numerical format\n",
    "\n",
    "1. Convert the columns AVERAGE_ACCT_AGE and CREDIT_HISTORY_LENGTH column data into numerical data.\n",
    "2. Seperating the Date_of_Birth and Disbursal_date data into days, month , and year columns."
   ]
  },
  {
   "cell_type": "code",
   "execution_count": 24,
   "metadata": {
    "colab": {
     "base_uri": "https://localhost:8080/",
     "height": 300
    },
    "id": "TR91XL0YWV1d",
    "outputId": "06c3aa7b-0c9f-468e-93f8-17001c2a4cc6"
   },
   "outputs": [
    {
     "data": {
      "text/html": [
       "<div>\n",
       "<style scoped>\n",
       "    .dataframe tbody tr th:only-of-type {\n",
       "        vertical-align: middle;\n",
       "    }\n",
       "\n",
       "    .dataframe tbody tr th {\n",
       "        vertical-align: top;\n",
       "    }\n",
       "\n",
       "    .dataframe thead th {\n",
       "        text-align: right;\n",
       "    }\n",
       "</style>\n",
       "<table border=\"1\" class=\"dataframe\">\n",
       "  <thead>\n",
       "    <tr style=\"text-align: right;\">\n",
       "      <th></th>\n",
       "      <th>DISBURSED_AMOUNT</th>\n",
       "      <th>ASSET_COST</th>\n",
       "      <th>LTV</th>\n",
       "      <th>BRANCH_ID</th>\n",
       "      <th>SUPPLIER_ID</th>\n",
       "      <th>MANUFACTURER_ID</th>\n",
       "      <th>CURRENT_PINCODE_ID</th>\n",
       "      <th>DATE_OF_BIRTH</th>\n",
       "      <th>EMPLOYMENT_TYPE</th>\n",
       "      <th>DISBURSAL_DATE</th>\n",
       "      <th>...</th>\n",
       "      <th>SEC_SANCTIONED_AMOUNT</th>\n",
       "      <th>SEC_DISBURSED_AMOUNT</th>\n",
       "      <th>PRIMARY_INSTAL_AMT</th>\n",
       "      <th>SEC_INSTAL_AMT</th>\n",
       "      <th>NEW_ACCTS_IN_LAST_SIX_MONTHS</th>\n",
       "      <th>DELINQUENT_ACCTS_IN_LAST_SIX_MONTHS</th>\n",
       "      <th>AVERAGE_ACCT_AGE</th>\n",
       "      <th>CREDIT_HISTORY_LENGTH</th>\n",
       "      <th>NO_OF_INQUIRIES</th>\n",
       "      <th>LOAN_DEFAULT</th>\n",
       "    </tr>\n",
       "  </thead>\n",
       "  <tbody>\n",
       "    <tr>\n",
       "      <th>0</th>\n",
       "      <td>50578</td>\n",
       "      <td>58400</td>\n",
       "      <td>89.55</td>\n",
       "      <td>67</td>\n",
       "      <td>22807</td>\n",
       "      <td>45</td>\n",
       "      <td>1441</td>\n",
       "      <td>01-01-1984</td>\n",
       "      <td>Salaried</td>\n",
       "      <td>03-08-2018</td>\n",
       "      <td>...</td>\n",
       "      <td>0</td>\n",
       "      <td>0</td>\n",
       "      <td>0</td>\n",
       "      <td>0</td>\n",
       "      <td>0</td>\n",
       "      <td>0</td>\n",
       "      <td>0.000000</td>\n",
       "      <td>0.000000</td>\n",
       "      <td>0</td>\n",
       "      <td>0</td>\n",
       "    </tr>\n",
       "    <tr>\n",
       "      <th>1</th>\n",
       "      <td>47145</td>\n",
       "      <td>65550</td>\n",
       "      <td>73.23</td>\n",
       "      <td>67</td>\n",
       "      <td>22807</td>\n",
       "      <td>45</td>\n",
       "      <td>1502</td>\n",
       "      <td>31-07-1985</td>\n",
       "      <td>Self employed</td>\n",
       "      <td>26-09-2018</td>\n",
       "      <td>...</td>\n",
       "      <td>0</td>\n",
       "      <td>0</td>\n",
       "      <td>1991</td>\n",
       "      <td>0</td>\n",
       "      <td>0</td>\n",
       "      <td>1</td>\n",
       "      <td>1.916667</td>\n",
       "      <td>1.916667</td>\n",
       "      <td>0</td>\n",
       "      <td>1</td>\n",
       "    </tr>\n",
       "    <tr>\n",
       "      <th>2</th>\n",
       "      <td>53278</td>\n",
       "      <td>61360</td>\n",
       "      <td>89.63</td>\n",
       "      <td>67</td>\n",
       "      <td>22807</td>\n",
       "      <td>45</td>\n",
       "      <td>1497</td>\n",
       "      <td>24-08-1985</td>\n",
       "      <td>Self employed</td>\n",
       "      <td>01-08-2018</td>\n",
       "      <td>...</td>\n",
       "      <td>0</td>\n",
       "      <td>0</td>\n",
       "      <td>0</td>\n",
       "      <td>0</td>\n",
       "      <td>0</td>\n",
       "      <td>0</td>\n",
       "      <td>0.000000</td>\n",
       "      <td>0.000000</td>\n",
       "      <td>0</td>\n",
       "      <td>0</td>\n",
       "    </tr>\n",
       "    <tr>\n",
       "      <th>3</th>\n",
       "      <td>57513</td>\n",
       "      <td>66113</td>\n",
       "      <td>88.48</td>\n",
       "      <td>67</td>\n",
       "      <td>22807</td>\n",
       "      <td>45</td>\n",
       "      <td>1501</td>\n",
       "      <td>30-12-1993</td>\n",
       "      <td>Self employed</td>\n",
       "      <td>26-10-2018</td>\n",
       "      <td>...</td>\n",
       "      <td>0</td>\n",
       "      <td>0</td>\n",
       "      <td>31</td>\n",
       "      <td>0</td>\n",
       "      <td>0</td>\n",
       "      <td>0</td>\n",
       "      <td>0.666667</td>\n",
       "      <td>1.250000</td>\n",
       "      <td>1</td>\n",
       "      <td>1</td>\n",
       "    </tr>\n",
       "    <tr>\n",
       "      <th>4</th>\n",
       "      <td>52378</td>\n",
       "      <td>60300</td>\n",
       "      <td>88.39</td>\n",
       "      <td>67</td>\n",
       "      <td>22807</td>\n",
       "      <td>45</td>\n",
       "      <td>1495</td>\n",
       "      <td>09-12-1977</td>\n",
       "      <td>Self employed</td>\n",
       "      <td>26-09-2018</td>\n",
       "      <td>...</td>\n",
       "      <td>0</td>\n",
       "      <td>0</td>\n",
       "      <td>0</td>\n",
       "      <td>0</td>\n",
       "      <td>0</td>\n",
       "      <td>0</td>\n",
       "      <td>0.000000</td>\n",
       "      <td>0.000000</td>\n",
       "      <td>1</td>\n",
       "      <td>1</td>\n",
       "    </tr>\n",
       "  </tbody>\n",
       "</table>\n",
       "<p>5 rows × 40 columns</p>\n",
       "</div>"
      ],
      "text/plain": [
       "   DISBURSED_AMOUNT  ASSET_COST    LTV  BRANCH_ID  SUPPLIER_ID  \\\n",
       "0             50578       58400  89.55         67        22807   \n",
       "1             47145       65550  73.23         67        22807   \n",
       "2             53278       61360  89.63         67        22807   \n",
       "3             57513       66113  88.48         67        22807   \n",
       "4             52378       60300  88.39         67        22807   \n",
       "\n",
       "   MANUFACTURER_ID  CURRENT_PINCODE_ID DATE_OF_BIRTH EMPLOYMENT_TYPE  \\\n",
       "0               45                1441    01-01-1984        Salaried   \n",
       "1               45                1502    31-07-1985   Self employed   \n",
       "2               45                1497    24-08-1985   Self employed   \n",
       "3               45                1501    30-12-1993   Self employed   \n",
       "4               45                1495    09-12-1977   Self employed   \n",
       "\n",
       "  DISBURSAL_DATE  ...  SEC_SANCTIONED_AMOUNT  SEC_DISBURSED_AMOUNT  \\\n",
       "0     03-08-2018  ...                      0                     0   \n",
       "1     26-09-2018  ...                      0                     0   \n",
       "2     01-08-2018  ...                      0                     0   \n",
       "3     26-10-2018  ...                      0                     0   \n",
       "4     26-09-2018  ...                      0                     0   \n",
       "\n",
       "   PRIMARY_INSTAL_AMT  SEC_INSTAL_AMT  NEW_ACCTS_IN_LAST_SIX_MONTHS  \\\n",
       "0                   0               0                             0   \n",
       "1                1991               0                             0   \n",
       "2                   0               0                             0   \n",
       "3                  31               0                             0   \n",
       "4                   0               0                             0   \n",
       "\n",
       "   DELINQUENT_ACCTS_IN_LAST_SIX_MONTHS  AVERAGE_ACCT_AGE  \\\n",
       "0                                    0          0.000000   \n",
       "1                                    1          1.916667   \n",
       "2                                    0          0.000000   \n",
       "3                                    0          0.666667   \n",
       "4                                    0          0.000000   \n",
       "\n",
       "   CREDIT_HISTORY_LENGTH  NO_OF_INQUIRIES LOAN_DEFAULT  \n",
       "0               0.000000                0            0  \n",
       "1               1.916667                0            1  \n",
       "2               0.000000                0            0  \n",
       "3               1.250000                1            1  \n",
       "4               0.000000                1            1  \n",
       "\n",
       "[5 rows x 40 columns]"
      ]
     },
     "execution_count": 24,
     "metadata": {},
     "output_type": "execute_result"
    }
   ],
   "source": [
    "# Function to convert \"yrs mon\" format to a float value\n",
    "def convert_to_float(x):\n",
    "    years, months = x.split()\n",
    "    return float(years[:-3]) + float(months[:-3])/12\n",
    "\n",
    "# Apply the function to the 'AVERAGE_ACCT_AGE' and 'CREDIT_HISTORY_LENGTH' column\n",
    "df['AVERAGE_ACCT_AGE'] = df['AVERAGE_ACCT_AGE'].apply(convert_to_float)\n",
    "df['CREDIT_HISTORY_LENGTH'] = df['CREDIT_HISTORY_LENGTH'].apply(convert_to_float)\n",
    "\n",
    "# Display the dataframe with the new column\n",
    "df.head()"
   ]
  },
  {
   "cell_type": "code",
   "execution_count": 25,
   "metadata": {
    "colab": {
     "base_uri": "https://localhost:8080/"
    },
    "id": "eCWszoD8ZWSG",
    "outputId": "406863af-36b9-4ca2-b2b8-c667e945705e"
   },
   "outputs": [
    {
     "name": "stdout",
     "output_type": "stream",
     "text": [
      "        DISBURSED_AMOUNT  ASSET_COST    LTV  BRANCH_ID  SUPPLIER_ID  \\\n",
      "0                  50578       58400  89.55         67        22807   \n",
      "1                  47145       65550  73.23         67        22807   \n",
      "2                  53278       61360  89.63         67        22807   \n",
      "3                  57513       66113  88.48         67        22807   \n",
      "4                  52378       60300  88.39         67        22807   \n",
      "...                  ...         ...    ...        ...          ...   \n",
      "233149             63213      105405  60.72         34        20700   \n",
      "233150             73651      100600  74.95         34        23775   \n",
      "233151             33484       71212  48.45         77        22186   \n",
      "233152             34259       73286  49.10         77        22186   \n",
      "233153             75751      116009  66.81         77        22186   \n",
      "\n",
      "        MANUFACTURER_ID  CURRENT_PINCODE_ID DATE_OF_BIRTH EMPLOYMENT_TYPE  \\\n",
      "0                    45                1441    01-01-1984        Salaried   \n",
      "1                    45                1502    31-07-1985   Self employed   \n",
      "2                    45                1497    24-08-1985   Self employed   \n",
      "3                    45                1501    30-12-1993   Self employed   \n",
      "4                    45                1495    09-12-1977   Self employed   \n",
      "...                 ...                 ...           ...             ...   \n",
      "233149               48                1050    01-08-1988        Salaried   \n",
      "233150               51                 990    05-12-1988   Self employed   \n",
      "233151               86                2299    01-06-1976        Salaried   \n",
      "233152               86                2299    26-03-1994        Salaried   \n",
      "233153               86                2299    18-02-1984        Salaried   \n",
      "\n",
      "        STATE_ID  ...  SEC_INSTAL_AMT  NEW_ACCTS_IN_LAST_SIX_MONTHS  \\\n",
      "0              6  ...               0                             0   \n",
      "1              6  ...               0                             0   \n",
      "2              6  ...               0                             0   \n",
      "3              6  ...               0                             0   \n",
      "4              6  ...               0                             0   \n",
      "...          ...  ...             ...                           ...   \n",
      "233149         6  ...               0                             0   \n",
      "233150         6  ...               0                             0   \n",
      "233151         4  ...               0                             0   \n",
      "233152         4  ...               0                             0   \n",
      "233153         4  ...               0                             0   \n",
      "\n",
      "        DELINQUENT_ACCTS_IN_LAST_SIX_MONTHS  AVERAGE_ACCT_AGE  \\\n",
      "0                                         0          0.000000   \n",
      "1                                         1          1.916667   \n",
      "2                                         0          0.000000   \n",
      "3                                         0          0.666667   \n",
      "4                                         0          0.000000   \n",
      "...                                     ...               ...   \n",
      "233149                                    0          1.750000   \n",
      "233150                                    0          0.500000   \n",
      "233151                                    0          0.000000   \n",
      "233152                                    0          0.000000   \n",
      "233153                                    0          0.000000   \n",
      "\n",
      "        CREDIT_HISTORY_LENGTH  NO_OF_INQUIRIES  LOAN_DEFAULT  DISBURSAL_year  \\\n",
      "0                    0.000000                0             0            2018   \n",
      "1                    1.916667                0             1            2018   \n",
      "2                    0.000000                0             0            2018   \n",
      "3                    1.250000                1             1            2018   \n",
      "4                    0.000000                1             1            2018   \n",
      "...                       ...              ...           ...             ...   \n",
      "233149               3.250000                0             0            2018   \n",
      "233150               0.500000                0             0            2018   \n",
      "233151               0.000000                0             0            2018   \n",
      "233152               0.000000                0             0            2018   \n",
      "233153               0.000000                0             0            2018   \n",
      "\n",
      "       DISBURSAL_month  DISBURSAL_day  \n",
      "0                    3              8  \n",
      "1                    9             26  \n",
      "2                    1              8  \n",
      "3                   10             26  \n",
      "4                    9             26  \n",
      "...                ...            ...  \n",
      "233149              10             26  \n",
      "233150              10             23  \n",
      "233151              10             24  \n",
      "233152               9             29  \n",
      "233153              10             27  \n",
      "\n",
      "[233154 rows x 42 columns]\n"
     ]
    }
   ],
   "source": [
    "# Convert the 'date' column to datetime format\n",
    "df['DISBURSAL_DATE'] = pd.to_datetime(df['DISBURSAL_DATE'])\n",
    "\n",
    "# Extract the year, month, and day as numerical columns\n",
    "df['DISBURSAL_year'] = df['DISBURSAL_DATE'].dt.year\n",
    "df['DISBURSAL_month'] = df['DISBURSAL_DATE'].dt.month\n",
    "df['DISBURSAL_day'] = df['DISBURSAL_DATE'].dt.day\n",
    "\n",
    "#Dropping the original DISBURSAL_DATE column\n",
    "df= df.drop('DISBURSAL_DATE', axis=1)\n",
    "\n",
    "# Display the dataframe with the new columns\n",
    "print(df)\n"
   ]
  },
  {
   "cell_type": "markdown",
   "metadata": {
    "id": "1M1ZUc0_dvz0"
   },
   "source": [
    "Using DATE_OF_BIRTH column, we will get a new column 'AGE' which will determine the age of the loan holders."
   ]
  },
  {
   "cell_type": "code",
   "execution_count": 26,
   "metadata": {
    "colab": {
     "base_uri": "https://localhost:8080/",
     "height": 300
    },
    "id": "PEH_AZRGeATy",
    "outputId": "30740939-8bef-4213-cc71-b360baa864f2"
   },
   "outputs": [
    {
     "data": {
      "text/html": [
       "<div>\n",
       "<style scoped>\n",
       "    .dataframe tbody tr th:only-of-type {\n",
       "        vertical-align: middle;\n",
       "    }\n",
       "\n",
       "    .dataframe tbody tr th {\n",
       "        vertical-align: top;\n",
       "    }\n",
       "\n",
       "    .dataframe thead th {\n",
       "        text-align: right;\n",
       "    }\n",
       "</style>\n",
       "<table border=\"1\" class=\"dataframe\">\n",
       "  <thead>\n",
       "    <tr style=\"text-align: right;\">\n",
       "      <th></th>\n",
       "      <th>DISBURSED_AMOUNT</th>\n",
       "      <th>ASSET_COST</th>\n",
       "      <th>LTV</th>\n",
       "      <th>BRANCH_ID</th>\n",
       "      <th>SUPPLIER_ID</th>\n",
       "      <th>MANUFACTURER_ID</th>\n",
       "      <th>CURRENT_PINCODE_ID</th>\n",
       "      <th>DATE_OF_BIRTH</th>\n",
       "      <th>EMPLOYMENT_TYPE</th>\n",
       "      <th>STATE_ID</th>\n",
       "      <th>...</th>\n",
       "      <th>NEW_ACCTS_IN_LAST_SIX_MONTHS</th>\n",
       "      <th>DELINQUENT_ACCTS_IN_LAST_SIX_MONTHS</th>\n",
       "      <th>AVERAGE_ACCT_AGE</th>\n",
       "      <th>CREDIT_HISTORY_LENGTH</th>\n",
       "      <th>NO_OF_INQUIRIES</th>\n",
       "      <th>LOAN_DEFAULT</th>\n",
       "      <th>DISBURSAL_year</th>\n",
       "      <th>DISBURSAL_month</th>\n",
       "      <th>DISBURSAL_day</th>\n",
       "      <th>AGE</th>\n",
       "    </tr>\n",
       "  </thead>\n",
       "  <tbody>\n",
       "    <tr>\n",
       "      <th>0</th>\n",
       "      <td>50578</td>\n",
       "      <td>58400</td>\n",
       "      <td>89.55</td>\n",
       "      <td>67</td>\n",
       "      <td>22807</td>\n",
       "      <td>45</td>\n",
       "      <td>1441</td>\n",
       "      <td>01-01-1984</td>\n",
       "      <td>Salaried</td>\n",
       "      <td>6</td>\n",
       "      <td>...</td>\n",
       "      <td>0</td>\n",
       "      <td>0</td>\n",
       "      <td>0.000000</td>\n",
       "      <td>0.000000</td>\n",
       "      <td>0</td>\n",
       "      <td>0</td>\n",
       "      <td>2018</td>\n",
       "      <td>3</td>\n",
       "      <td>8</td>\n",
       "      <td>39.200548</td>\n",
       "    </tr>\n",
       "    <tr>\n",
       "      <th>1</th>\n",
       "      <td>47145</td>\n",
       "      <td>65550</td>\n",
       "      <td>73.23</td>\n",
       "      <td>67</td>\n",
       "      <td>22807</td>\n",
       "      <td>45</td>\n",
       "      <td>1502</td>\n",
       "      <td>31-07-1985</td>\n",
       "      <td>Self employed</td>\n",
       "      <td>6</td>\n",
       "      <td>...</td>\n",
       "      <td>0</td>\n",
       "      <td>1</td>\n",
       "      <td>1.916667</td>\n",
       "      <td>1.916667</td>\n",
       "      <td>0</td>\n",
       "      <td>1</td>\n",
       "      <td>2018</td>\n",
       "      <td>9</td>\n",
       "      <td>26</td>\n",
       "      <td>37.620808</td>\n",
       "    </tr>\n",
       "    <tr>\n",
       "      <th>2</th>\n",
       "      <td>53278</td>\n",
       "      <td>61360</td>\n",
       "      <td>89.63</td>\n",
       "      <td>67</td>\n",
       "      <td>22807</td>\n",
       "      <td>45</td>\n",
       "      <td>1497</td>\n",
       "      <td>24-08-1985</td>\n",
       "      <td>Self employed</td>\n",
       "      <td>6</td>\n",
       "      <td>...</td>\n",
       "      <td>0</td>\n",
       "      <td>0</td>\n",
       "      <td>0.000000</td>\n",
       "      <td>0.000000</td>\n",
       "      <td>0</td>\n",
       "      <td>0</td>\n",
       "      <td>2018</td>\n",
       "      <td>1</td>\n",
       "      <td>8</td>\n",
       "      <td>37.555099</td>\n",
       "    </tr>\n",
       "    <tr>\n",
       "      <th>3</th>\n",
       "      <td>57513</td>\n",
       "      <td>66113</td>\n",
       "      <td>88.48</td>\n",
       "      <td>67</td>\n",
       "      <td>22807</td>\n",
       "      <td>45</td>\n",
       "      <td>1501</td>\n",
       "      <td>30-12-1993</td>\n",
       "      <td>Self employed</td>\n",
       "      <td>6</td>\n",
       "      <td>...</td>\n",
       "      <td>0</td>\n",
       "      <td>0</td>\n",
       "      <td>0.666667</td>\n",
       "      <td>1.250000</td>\n",
       "      <td>1</td>\n",
       "      <td>1</td>\n",
       "      <td>2018</td>\n",
       "      <td>10</td>\n",
       "      <td>26</td>\n",
       "      <td>29.204654</td>\n",
       "    </tr>\n",
       "    <tr>\n",
       "      <th>4</th>\n",
       "      <td>52378</td>\n",
       "      <td>60300</td>\n",
       "      <td>88.39</td>\n",
       "      <td>67</td>\n",
       "      <td>22807</td>\n",
       "      <td>45</td>\n",
       "      <td>1495</td>\n",
       "      <td>09-12-1977</td>\n",
       "      <td>Self employed</td>\n",
       "      <td>6</td>\n",
       "      <td>...</td>\n",
       "      <td>0</td>\n",
       "      <td>0</td>\n",
       "      <td>0.000000</td>\n",
       "      <td>0.000000</td>\n",
       "      <td>1</td>\n",
       "      <td>1</td>\n",
       "      <td>2018</td>\n",
       "      <td>9</td>\n",
       "      <td>26</td>\n",
       "      <td>45.503080</td>\n",
       "    </tr>\n",
       "  </tbody>\n",
       "</table>\n",
       "<p>5 rows × 43 columns</p>\n",
       "</div>"
      ],
      "text/plain": [
       "   DISBURSED_AMOUNT  ASSET_COST    LTV  BRANCH_ID  SUPPLIER_ID  \\\n",
       "0             50578       58400  89.55         67        22807   \n",
       "1             47145       65550  73.23         67        22807   \n",
       "2             53278       61360  89.63         67        22807   \n",
       "3             57513       66113  88.48         67        22807   \n",
       "4             52378       60300  88.39         67        22807   \n",
       "\n",
       "   MANUFACTURER_ID  CURRENT_PINCODE_ID DATE_OF_BIRTH EMPLOYMENT_TYPE  \\\n",
       "0               45                1441    01-01-1984        Salaried   \n",
       "1               45                1502    31-07-1985   Self employed   \n",
       "2               45                1497    24-08-1985   Self employed   \n",
       "3               45                1501    30-12-1993   Self employed   \n",
       "4               45                1495    09-12-1977   Self employed   \n",
       "\n",
       "   STATE_ID  ...  NEW_ACCTS_IN_LAST_SIX_MONTHS  \\\n",
       "0         6  ...                             0   \n",
       "1         6  ...                             0   \n",
       "2         6  ...                             0   \n",
       "3         6  ...                             0   \n",
       "4         6  ...                             0   \n",
       "\n",
       "   DELINQUENT_ACCTS_IN_LAST_SIX_MONTHS  AVERAGE_ACCT_AGE  \\\n",
       "0                                    0          0.000000   \n",
       "1                                    1          1.916667   \n",
       "2                                    0          0.000000   \n",
       "3                                    0          0.666667   \n",
       "4                                    0          0.000000   \n",
       "\n",
       "   CREDIT_HISTORY_LENGTH  NO_OF_INQUIRIES  LOAN_DEFAULT  DISBURSAL_year  \\\n",
       "0               0.000000                0             0            2018   \n",
       "1               1.916667                0             1            2018   \n",
       "2               0.000000                0             0            2018   \n",
       "3               1.250000                1             1            2018   \n",
       "4               0.000000                1             1            2018   \n",
       "\n",
       "   DISBURSAL_month DISBURSAL_day        AGE  \n",
       "0                3             8  39.200548  \n",
       "1                9            26  37.620808  \n",
       "2                1             8  37.555099  \n",
       "3               10            26  29.204654  \n",
       "4                9            26  45.503080  \n",
       "\n",
       "[5 rows x 43 columns]"
      ]
     },
     "execution_count": 26,
     "metadata": {},
     "output_type": "execute_result"
    }
   ],
   "source": [
    "import datetime as dt\n",
    "df['AGE'] = ((dt.date.today() - pd.to_datetime(df['DATE_OF_BIRTH']).dt.date).dt.days) / 365.25\n",
    "df.head()"
   ]
  },
  {
   "cell_type": "code",
   "execution_count": 27,
   "metadata": {
    "id": "Tv5wknNGsWfY"
   },
   "outputs": [],
   "source": [
    "#I don't want to keep the Date of Birth column since i already got the age of the loan defaulter\n",
    "df=df.drop('DATE_OF_BIRTH',axis=1)"
   ]
  },
  {
   "cell_type": "code",
   "execution_count": 28,
   "metadata": {
    "colab": {
     "base_uri": "https://localhost:8080/"
    },
    "id": "5bxVpl16obRc",
    "outputId": "76c8db63-216c-4465-9402-c9efb84c59a3"
   },
   "outputs": [
    {
     "data": {
      "text/plain": [
       "Index(['DISBURSED_AMOUNT', 'ASSET_COST', 'LTV', 'BRANCH_ID', 'SUPPLIER_ID',\n",
       "       'MANUFACTURER_ID', 'CURRENT_PINCODE_ID', 'EMPLOYMENT_TYPE', 'STATE_ID',\n",
       "       'EMPLOYEE_CODE_ID', 'MOBILENO_AVL_FLAG', 'AADHAR_FLAG', 'PAN_FLAG',\n",
       "       'VOTERID_FLAG', 'DRIVING_FLAG', 'PASSPORT_FLAG', 'PERFORM_CNS_SCORE',\n",
       "       'PERFORM_CNS_SCORE_DESCRIPTION', 'PRI_NO_OF_ACCTS', 'PRI_ACTIVE_ACCTS',\n",
       "       'PRI_OVERDUE_ACCTS', 'PRI_CURRENT_BALANCE', 'PRI_SANCTIONED_AMOUNT',\n",
       "       'PRI_DISBURSED_AMOUNT', 'SEC_NO_OF_ACCTS', 'SEC_ACTIVE_ACCTS',\n",
       "       'SEC_OVERDUE_ACCTS', 'SEC_CURRENT_BALANCE', 'SEC_SANCTIONED_AMOUNT',\n",
       "       'SEC_DISBURSED_AMOUNT', 'PRIMARY_INSTAL_AMT', 'SEC_INSTAL_AMT',\n",
       "       'NEW_ACCTS_IN_LAST_SIX_MONTHS', 'DELINQUENT_ACCTS_IN_LAST_SIX_MONTHS',\n",
       "       'AVERAGE_ACCT_AGE', 'CREDIT_HISTORY_LENGTH', 'NO_OF_INQUIRIES',\n",
       "       'LOAN_DEFAULT', 'DISBURSAL_year', 'DISBURSAL_month', 'DISBURSAL_day',\n",
       "       'AGE'],\n",
       "      dtype='object')"
      ]
     },
     "execution_count": 28,
     "metadata": {},
     "output_type": "execute_result"
    }
   ],
   "source": [
    "df.columns"
   ]
  },
  {
   "cell_type": "code",
   "execution_count": 29,
   "metadata": {
    "colab": {
     "base_uri": "https://localhost:8080/"
    },
    "id": "crURZyRDsH8Y",
    "outputId": "8a059cc7-472a-4b48-a568-19b1b8b50c1e"
   },
   "outputs": [
    {
     "data": {
      "text/plain": [
       "DISBURSED_AMOUNT                         int64\n",
       "ASSET_COST                               int64\n",
       "LTV                                    float64\n",
       "BRANCH_ID                                int64\n",
       "SUPPLIER_ID                              int64\n",
       "MANUFACTURER_ID                          int64\n",
       "CURRENT_PINCODE_ID                       int64\n",
       "EMPLOYMENT_TYPE                         object\n",
       "STATE_ID                                 int64\n",
       "EMPLOYEE_CODE_ID                         int64\n",
       "MOBILENO_AVL_FLAG                        int64\n",
       "AADHAR_FLAG                              int64\n",
       "PAN_FLAG                                 int64\n",
       "VOTERID_FLAG                             int64\n",
       "DRIVING_FLAG                             int64\n",
       "PASSPORT_FLAG                            int64\n",
       "PERFORM_CNS_SCORE                        int64\n",
       "PERFORM_CNS_SCORE_DESCRIPTION           object\n",
       "PRI_NO_OF_ACCTS                          int64\n",
       "PRI_ACTIVE_ACCTS                         int64\n",
       "PRI_OVERDUE_ACCTS                        int64\n",
       "PRI_CURRENT_BALANCE                      int64\n",
       "PRI_SANCTIONED_AMOUNT                    int64\n",
       "PRI_DISBURSED_AMOUNT                     int64\n",
       "SEC_NO_OF_ACCTS                          int64\n",
       "SEC_ACTIVE_ACCTS                         int64\n",
       "SEC_OVERDUE_ACCTS                        int64\n",
       "SEC_CURRENT_BALANCE                      int64\n",
       "SEC_SANCTIONED_AMOUNT                    int64\n",
       "SEC_DISBURSED_AMOUNT                     int64\n",
       "PRIMARY_INSTAL_AMT                       int64\n",
       "SEC_INSTAL_AMT                           int64\n",
       "NEW_ACCTS_IN_LAST_SIX_MONTHS             int64\n",
       "DELINQUENT_ACCTS_IN_LAST_SIX_MONTHS      int64\n",
       "AVERAGE_ACCT_AGE                       float64\n",
       "CREDIT_HISTORY_LENGTH                  float64\n",
       "NO_OF_INQUIRIES                          int64\n",
       "LOAN_DEFAULT                             int64\n",
       "DISBURSAL_year                           int64\n",
       "DISBURSAL_month                          int64\n",
       "DISBURSAL_day                            int64\n",
       "AGE                                    float64\n",
       "dtype: object"
      ]
     },
     "execution_count": 29,
     "metadata": {},
     "output_type": "execute_result"
    }
   ],
   "source": [
    "df.dtypes"
   ]
  },
  {
   "cell_type": "markdown",
   "metadata": {
    "id": "Kc64P4cPwq0U"
   },
   "source": [
    "#Encoding categorical column"
   ]
  },
  {
   "cell_type": "markdown",
   "metadata": {
    "id": "G8Hnor4rQOFb"
   },
   "source": [
    "First, we shall encode the Perform_CNS_SCORE_DESCRIPTION colun which contains a lot of categories with no order. So, we shall be using binary encoder to encode the column. "
   ]
  },
  {
   "cell_type": "code",
   "execution_count": 30,
   "metadata": {
    "colab": {
     "base_uri": "https://localhost:8080/",
     "height": 609
    },
    "id": "KZGQa_Ss9tts",
    "outputId": "1638371f-bd41-4942-d079-500e2bb08d7a"
   },
   "outputs": [
    {
     "data": {
      "text/html": [
       "<div>\n",
       "<style scoped>\n",
       "    .dataframe tbody tr th:only-of-type {\n",
       "        vertical-align: middle;\n",
       "    }\n",
       "\n",
       "    .dataframe tbody tr th {\n",
       "        vertical-align: top;\n",
       "    }\n",
       "\n",
       "    .dataframe thead th {\n",
       "        text-align: right;\n",
       "    }\n",
       "</style>\n",
       "<table border=\"1\" class=\"dataframe\">\n",
       "  <thead>\n",
       "    <tr style=\"text-align: right;\">\n",
       "      <th></th>\n",
       "      <th>DISBURSED_AMOUNT</th>\n",
       "      <th>ASSET_COST</th>\n",
       "      <th>LTV</th>\n",
       "      <th>BRANCH_ID</th>\n",
       "      <th>SUPPLIER_ID</th>\n",
       "      <th>MANUFACTURER_ID</th>\n",
       "      <th>CURRENT_PINCODE_ID</th>\n",
       "      <th>EMPLOYMENT_TYPE</th>\n",
       "      <th>STATE_ID</th>\n",
       "      <th>EMPLOYEE_CODE_ID</th>\n",
       "      <th>...</th>\n",
       "      <th>K-High Risk</th>\n",
       "      <th>L-Very High Risk</th>\n",
       "      <th>M-Very High Risk</th>\n",
       "      <th>No Bureau History Available</th>\n",
       "      <th>Not Scored: More than 50 active Accounts found</th>\n",
       "      <th>Not Scored: No Activity seen on the customer (Inactive)</th>\n",
       "      <th>Not Scored: No Updates available in last 36 months</th>\n",
       "      <th>Not Scored: Not Enough Info available on the customer</th>\n",
       "      <th>Not Scored: Only a Guarantor</th>\n",
       "      <th>Not Scored: Sufficient History Not Available</th>\n",
       "    </tr>\n",
       "  </thead>\n",
       "  <tbody>\n",
       "    <tr>\n",
       "      <th>0</th>\n",
       "      <td>50578</td>\n",
       "      <td>58400</td>\n",
       "      <td>89.55</td>\n",
       "      <td>67</td>\n",
       "      <td>22807</td>\n",
       "      <td>45</td>\n",
       "      <td>1441</td>\n",
       "      <td>Salaried</td>\n",
       "      <td>6</td>\n",
       "      <td>1998</td>\n",
       "      <td>...</td>\n",
       "      <td>0</td>\n",
       "      <td>0</td>\n",
       "      <td>0</td>\n",
       "      <td>1</td>\n",
       "      <td>0</td>\n",
       "      <td>0</td>\n",
       "      <td>0</td>\n",
       "      <td>0</td>\n",
       "      <td>0</td>\n",
       "      <td>0</td>\n",
       "    </tr>\n",
       "    <tr>\n",
       "      <th>1</th>\n",
       "      <td>47145</td>\n",
       "      <td>65550</td>\n",
       "      <td>73.23</td>\n",
       "      <td>67</td>\n",
       "      <td>22807</td>\n",
       "      <td>45</td>\n",
       "      <td>1502</td>\n",
       "      <td>Self employed</td>\n",
       "      <td>6</td>\n",
       "      <td>1998</td>\n",
       "      <td>...</td>\n",
       "      <td>0</td>\n",
       "      <td>0</td>\n",
       "      <td>0</td>\n",
       "      <td>0</td>\n",
       "      <td>0</td>\n",
       "      <td>0</td>\n",
       "      <td>0</td>\n",
       "      <td>0</td>\n",
       "      <td>0</td>\n",
       "      <td>0</td>\n",
       "    </tr>\n",
       "    <tr>\n",
       "      <th>2</th>\n",
       "      <td>53278</td>\n",
       "      <td>61360</td>\n",
       "      <td>89.63</td>\n",
       "      <td>67</td>\n",
       "      <td>22807</td>\n",
       "      <td>45</td>\n",
       "      <td>1497</td>\n",
       "      <td>Self employed</td>\n",
       "      <td>6</td>\n",
       "      <td>1998</td>\n",
       "      <td>...</td>\n",
       "      <td>0</td>\n",
       "      <td>0</td>\n",
       "      <td>0</td>\n",
       "      <td>1</td>\n",
       "      <td>0</td>\n",
       "      <td>0</td>\n",
       "      <td>0</td>\n",
       "      <td>0</td>\n",
       "      <td>0</td>\n",
       "      <td>0</td>\n",
       "    </tr>\n",
       "    <tr>\n",
       "      <th>3</th>\n",
       "      <td>57513</td>\n",
       "      <td>66113</td>\n",
       "      <td>88.48</td>\n",
       "      <td>67</td>\n",
       "      <td>22807</td>\n",
       "      <td>45</td>\n",
       "      <td>1501</td>\n",
       "      <td>Self employed</td>\n",
       "      <td>6</td>\n",
       "      <td>1998</td>\n",
       "      <td>...</td>\n",
       "      <td>0</td>\n",
       "      <td>1</td>\n",
       "      <td>0</td>\n",
       "      <td>0</td>\n",
       "      <td>0</td>\n",
       "      <td>0</td>\n",
       "      <td>0</td>\n",
       "      <td>0</td>\n",
       "      <td>0</td>\n",
       "      <td>0</td>\n",
       "    </tr>\n",
       "    <tr>\n",
       "      <th>4</th>\n",
       "      <td>52378</td>\n",
       "      <td>60300</td>\n",
       "      <td>88.39</td>\n",
       "      <td>67</td>\n",
       "      <td>22807</td>\n",
       "      <td>45</td>\n",
       "      <td>1495</td>\n",
       "      <td>Self employed</td>\n",
       "      <td>6</td>\n",
       "      <td>1998</td>\n",
       "      <td>...</td>\n",
       "      <td>0</td>\n",
       "      <td>0</td>\n",
       "      <td>0</td>\n",
       "      <td>1</td>\n",
       "      <td>0</td>\n",
       "      <td>0</td>\n",
       "      <td>0</td>\n",
       "      <td>0</td>\n",
       "      <td>0</td>\n",
       "      <td>0</td>\n",
       "    </tr>\n",
       "    <tr>\n",
       "      <th>...</th>\n",
       "      <td>...</td>\n",
       "      <td>...</td>\n",
       "      <td>...</td>\n",
       "      <td>...</td>\n",
       "      <td>...</td>\n",
       "      <td>...</td>\n",
       "      <td>...</td>\n",
       "      <td>...</td>\n",
       "      <td>...</td>\n",
       "      <td>...</td>\n",
       "      <td>...</td>\n",
       "      <td>...</td>\n",
       "      <td>...</td>\n",
       "      <td>...</td>\n",
       "      <td>...</td>\n",
       "      <td>...</td>\n",
       "      <td>...</td>\n",
       "      <td>...</td>\n",
       "      <td>...</td>\n",
       "      <td>...</td>\n",
       "      <td>...</td>\n",
       "    </tr>\n",
       "    <tr>\n",
       "      <th>233149</th>\n",
       "      <td>63213</td>\n",
       "      <td>105405</td>\n",
       "      <td>60.72</td>\n",
       "      <td>34</td>\n",
       "      <td>20700</td>\n",
       "      <td>48</td>\n",
       "      <td>1050</td>\n",
       "      <td>Salaried</td>\n",
       "      <td>6</td>\n",
       "      <td>3705</td>\n",
       "      <td>...</td>\n",
       "      <td>0</td>\n",
       "      <td>0</td>\n",
       "      <td>0</td>\n",
       "      <td>0</td>\n",
       "      <td>0</td>\n",
       "      <td>0</td>\n",
       "      <td>0</td>\n",
       "      <td>0</td>\n",
       "      <td>0</td>\n",
       "      <td>0</td>\n",
       "    </tr>\n",
       "    <tr>\n",
       "      <th>233150</th>\n",
       "      <td>73651</td>\n",
       "      <td>100600</td>\n",
       "      <td>74.95</td>\n",
       "      <td>34</td>\n",
       "      <td>23775</td>\n",
       "      <td>51</td>\n",
       "      <td>990</td>\n",
       "      <td>Self employed</td>\n",
       "      <td>6</td>\n",
       "      <td>3705</td>\n",
       "      <td>...</td>\n",
       "      <td>0</td>\n",
       "      <td>0</td>\n",
       "      <td>0</td>\n",
       "      <td>0</td>\n",
       "      <td>0</td>\n",
       "      <td>0</td>\n",
       "      <td>0</td>\n",
       "      <td>0</td>\n",
       "      <td>0</td>\n",
       "      <td>0</td>\n",
       "    </tr>\n",
       "    <tr>\n",
       "      <th>233151</th>\n",
       "      <td>33484</td>\n",
       "      <td>71212</td>\n",
       "      <td>48.45</td>\n",
       "      <td>77</td>\n",
       "      <td>22186</td>\n",
       "      <td>86</td>\n",
       "      <td>2299</td>\n",
       "      <td>Salaried</td>\n",
       "      <td>4</td>\n",
       "      <td>3479</td>\n",
       "      <td>...</td>\n",
       "      <td>0</td>\n",
       "      <td>0</td>\n",
       "      <td>0</td>\n",
       "      <td>1</td>\n",
       "      <td>0</td>\n",
       "      <td>0</td>\n",
       "      <td>0</td>\n",
       "      <td>0</td>\n",
       "      <td>0</td>\n",
       "      <td>0</td>\n",
       "    </tr>\n",
       "    <tr>\n",
       "      <th>233152</th>\n",
       "      <td>34259</td>\n",
       "      <td>73286</td>\n",
       "      <td>49.10</td>\n",
       "      <td>77</td>\n",
       "      <td>22186</td>\n",
       "      <td>86</td>\n",
       "      <td>2299</td>\n",
       "      <td>Salaried</td>\n",
       "      <td>4</td>\n",
       "      <td>3479</td>\n",
       "      <td>...</td>\n",
       "      <td>0</td>\n",
       "      <td>0</td>\n",
       "      <td>0</td>\n",
       "      <td>1</td>\n",
       "      <td>0</td>\n",
       "      <td>0</td>\n",
       "      <td>0</td>\n",
       "      <td>0</td>\n",
       "      <td>0</td>\n",
       "      <td>0</td>\n",
       "    </tr>\n",
       "    <tr>\n",
       "      <th>233153</th>\n",
       "      <td>75751</td>\n",
       "      <td>116009</td>\n",
       "      <td>66.81</td>\n",
       "      <td>77</td>\n",
       "      <td>22186</td>\n",
       "      <td>86</td>\n",
       "      <td>2299</td>\n",
       "      <td>Salaried</td>\n",
       "      <td>4</td>\n",
       "      <td>3479</td>\n",
       "      <td>...</td>\n",
       "      <td>0</td>\n",
       "      <td>0</td>\n",
       "      <td>0</td>\n",
       "      <td>1</td>\n",
       "      <td>0</td>\n",
       "      <td>0</td>\n",
       "      <td>0</td>\n",
       "      <td>0</td>\n",
       "      <td>0</td>\n",
       "      <td>0</td>\n",
       "    </tr>\n",
       "  </tbody>\n",
       "</table>\n",
       "<p>233154 rows × 62 columns</p>\n",
       "</div>"
      ],
      "text/plain": [
       "        DISBURSED_AMOUNT  ASSET_COST    LTV  BRANCH_ID  SUPPLIER_ID  \\\n",
       "0                  50578       58400  89.55         67        22807   \n",
       "1                  47145       65550  73.23         67        22807   \n",
       "2                  53278       61360  89.63         67        22807   \n",
       "3                  57513       66113  88.48         67        22807   \n",
       "4                  52378       60300  88.39         67        22807   \n",
       "...                  ...         ...    ...        ...          ...   \n",
       "233149             63213      105405  60.72         34        20700   \n",
       "233150             73651      100600  74.95         34        23775   \n",
       "233151             33484       71212  48.45         77        22186   \n",
       "233152             34259       73286  49.10         77        22186   \n",
       "233153             75751      116009  66.81         77        22186   \n",
       "\n",
       "        MANUFACTURER_ID  CURRENT_PINCODE_ID EMPLOYMENT_TYPE  STATE_ID  \\\n",
       "0                    45                1441        Salaried         6   \n",
       "1                    45                1502   Self employed         6   \n",
       "2                    45                1497   Self employed         6   \n",
       "3                    45                1501   Self employed         6   \n",
       "4                    45                1495   Self employed         6   \n",
       "...                 ...                 ...             ...       ...   \n",
       "233149               48                1050        Salaried         6   \n",
       "233150               51                 990   Self employed         6   \n",
       "233151               86                2299        Salaried         4   \n",
       "233152               86                2299        Salaried         4   \n",
       "233153               86                2299        Salaried         4   \n",
       "\n",
       "        EMPLOYEE_CODE_ID  ...  K-High Risk  L-Very High Risk  \\\n",
       "0                   1998  ...            0                 0   \n",
       "1                   1998  ...            0                 0   \n",
       "2                   1998  ...            0                 0   \n",
       "3                   1998  ...            0                 1   \n",
       "4                   1998  ...            0                 0   \n",
       "...                  ...  ...          ...               ...   \n",
       "233149              3705  ...            0                 0   \n",
       "233150              3705  ...            0                 0   \n",
       "233151              3479  ...            0                 0   \n",
       "233152              3479  ...            0                 0   \n",
       "233153              3479  ...            0                 0   \n",
       "\n",
       "        M-Very High Risk  No Bureau History Available  \\\n",
       "0                      0                            1   \n",
       "1                      0                            0   \n",
       "2                      0                            1   \n",
       "3                      0                            0   \n",
       "4                      0                            1   \n",
       "...                  ...                          ...   \n",
       "233149                 0                            0   \n",
       "233150                 0                            0   \n",
       "233151                 0                            1   \n",
       "233152                 0                            1   \n",
       "233153                 0                            1   \n",
       "\n",
       "        Not Scored: More than 50 active Accounts found  \\\n",
       "0                                                    0   \n",
       "1                                                    0   \n",
       "2                                                    0   \n",
       "3                                                    0   \n",
       "4                                                    0   \n",
       "...                                                ...   \n",
       "233149                                               0   \n",
       "233150                                               0   \n",
       "233151                                               0   \n",
       "233152                                               0   \n",
       "233153                                               0   \n",
       "\n",
       "        Not Scored: No Activity seen on the customer (Inactive)  \\\n",
       "0                                                       0         \n",
       "1                                                       0         \n",
       "2                                                       0         \n",
       "3                                                       0         \n",
       "4                                                       0         \n",
       "...                                                   ...         \n",
       "233149                                                  0         \n",
       "233150                                                  0         \n",
       "233151                                                  0         \n",
       "233152                                                  0         \n",
       "233153                                                  0         \n",
       "\n",
       "        Not Scored: No Updates available in last 36 months  \\\n",
       "0                                                       0    \n",
       "1                                                       0    \n",
       "2                                                       0    \n",
       "3                                                       0    \n",
       "4                                                       0    \n",
       "...                                                   ...    \n",
       "233149                                                  0    \n",
       "233150                                                  0    \n",
       "233151                                                  0    \n",
       "233152                                                  0    \n",
       "233153                                                  0    \n",
       "\n",
       "       Not Scored: Not Enough Info available on the customer  \\\n",
       "0                                                       0      \n",
       "1                                                       0      \n",
       "2                                                       0      \n",
       "3                                                       0      \n",
       "4                                                       0      \n",
       "...                                                   ...      \n",
       "233149                                                  0      \n",
       "233150                                                  0      \n",
       "233151                                                  0      \n",
       "233152                                                  0      \n",
       "233153                                                  0      \n",
       "\n",
       "        Not Scored: Only a Guarantor  \\\n",
       "0                                  0   \n",
       "1                                  0   \n",
       "2                                  0   \n",
       "3                                  0   \n",
       "4                                  0   \n",
       "...                              ...   \n",
       "233149                             0   \n",
       "233150                             0   \n",
       "233151                             0   \n",
       "233152                             0   \n",
       "233153                             0   \n",
       "\n",
       "        Not Scored: Sufficient History Not Available  \n",
       "0                                                  0  \n",
       "1                                                  0  \n",
       "2                                                  0  \n",
       "3                                                  0  \n",
       "4                                                  0  \n",
       "...                                              ...  \n",
       "233149                                             0  \n",
       "233150                                             0  \n",
       "233151                                             0  \n",
       "233152                                             0  \n",
       "233153                                             0  \n",
       "\n",
       "[233154 rows x 62 columns]"
      ]
     },
     "execution_count": 30,
     "metadata": {},
     "output_type": "execute_result"
    }
   ],
   "source": [
    "from sklearn.preprocessing import LabelBinarizer\n",
    "# initialize LabelBinarizer object\n",
    "lb = LabelBinarizer()\n",
    "\n",
    "# fit and transform the 'color' column\n",
    "binary_data = lb.fit_transform(df['PERFORM_CNS_SCORE_DESCRIPTION'])\n",
    "\n",
    "# create a new dataframe with binary encoding\n",
    "binary_df = pd.DataFrame(binary_data, columns=lb.classes_)\n",
    "\n",
    "# concatenate the original dataframe with the new binary dataframe\n",
    "df = pd.concat([df, binary_df], axis=1)\n",
    "df"
   ]
  },
  {
   "cell_type": "code",
   "execution_count": 31,
   "metadata": {
    "id": "HXzw3-fqVJnZ"
   },
   "outputs": [],
   "source": [
    "#Drop the PERFORM_CNS_SCORE_DESCRIPTION column from the dataframe\n",
    "df= df.drop('PERFORM_CNS_SCORE_DESCRIPTION',axis=1)"
   ]
  },
  {
   "cell_type": "markdown",
   "metadata": {
    "id": "tc74a0a3TFml"
   },
   "source": [
    "For the EMPLOYMENT_TYPE column, since there are only 2 categories , we can use label encoding."
   ]
  },
  {
   "cell_type": "code",
   "execution_count": 32,
   "metadata": {
    "colab": {
     "base_uri": "https://localhost:8080/",
     "height": 421
    },
    "id": "d0Ds2YxCAitQ",
    "outputId": "264891c1-a149-489c-8173-6b328fe28525"
   },
   "outputs": [
    {
     "data": {
      "text/html": [
       "<div>\n",
       "<style scoped>\n",
       "    .dataframe tbody tr th:only-of-type {\n",
       "        vertical-align: middle;\n",
       "    }\n",
       "\n",
       "    .dataframe tbody tr th {\n",
       "        vertical-align: top;\n",
       "    }\n",
       "\n",
       "    .dataframe thead th {\n",
       "        text-align: right;\n",
       "    }\n",
       "</style>\n",
       "<table border=\"1\" class=\"dataframe\">\n",
       "  <thead>\n",
       "    <tr style=\"text-align: right;\">\n",
       "      <th></th>\n",
       "      <th>DISBURSED_AMOUNT</th>\n",
       "      <th>ASSET_COST</th>\n",
       "      <th>LTV</th>\n",
       "      <th>BRANCH_ID</th>\n",
       "      <th>SUPPLIER_ID</th>\n",
       "      <th>MANUFACTURER_ID</th>\n",
       "      <th>CURRENT_PINCODE_ID</th>\n",
       "      <th>EMPLOYMENT_TYPE</th>\n",
       "      <th>STATE_ID</th>\n",
       "      <th>EMPLOYEE_CODE_ID</th>\n",
       "      <th>...</th>\n",
       "      <th>K-High Risk</th>\n",
       "      <th>L-Very High Risk</th>\n",
       "      <th>M-Very High Risk</th>\n",
       "      <th>No Bureau History Available</th>\n",
       "      <th>Not Scored: More than 50 active Accounts found</th>\n",
       "      <th>Not Scored: No Activity seen on the customer (Inactive)</th>\n",
       "      <th>Not Scored: No Updates available in last 36 months</th>\n",
       "      <th>Not Scored: Not Enough Info available on the customer</th>\n",
       "      <th>Not Scored: Only a Guarantor</th>\n",
       "      <th>Not Scored: Sufficient History Not Available</th>\n",
       "    </tr>\n",
       "  </thead>\n",
       "  <tbody>\n",
       "    <tr>\n",
       "      <th>0</th>\n",
       "      <td>50578</td>\n",
       "      <td>58400</td>\n",
       "      <td>89.55</td>\n",
       "      <td>67</td>\n",
       "      <td>22807</td>\n",
       "      <td>45</td>\n",
       "      <td>1441</td>\n",
       "      <td>0</td>\n",
       "      <td>6</td>\n",
       "      <td>1998</td>\n",
       "      <td>...</td>\n",
       "      <td>0</td>\n",
       "      <td>0</td>\n",
       "      <td>0</td>\n",
       "      <td>1</td>\n",
       "      <td>0</td>\n",
       "      <td>0</td>\n",
       "      <td>0</td>\n",
       "      <td>0</td>\n",
       "      <td>0</td>\n",
       "      <td>0</td>\n",
       "    </tr>\n",
       "    <tr>\n",
       "      <th>1</th>\n",
       "      <td>47145</td>\n",
       "      <td>65550</td>\n",
       "      <td>73.23</td>\n",
       "      <td>67</td>\n",
       "      <td>22807</td>\n",
       "      <td>45</td>\n",
       "      <td>1502</td>\n",
       "      <td>1</td>\n",
       "      <td>6</td>\n",
       "      <td>1998</td>\n",
       "      <td>...</td>\n",
       "      <td>0</td>\n",
       "      <td>0</td>\n",
       "      <td>0</td>\n",
       "      <td>0</td>\n",
       "      <td>0</td>\n",
       "      <td>0</td>\n",
       "      <td>0</td>\n",
       "      <td>0</td>\n",
       "      <td>0</td>\n",
       "      <td>0</td>\n",
       "    </tr>\n",
       "    <tr>\n",
       "      <th>2</th>\n",
       "      <td>53278</td>\n",
       "      <td>61360</td>\n",
       "      <td>89.63</td>\n",
       "      <td>67</td>\n",
       "      <td>22807</td>\n",
       "      <td>45</td>\n",
       "      <td>1497</td>\n",
       "      <td>1</td>\n",
       "      <td>6</td>\n",
       "      <td>1998</td>\n",
       "      <td>...</td>\n",
       "      <td>0</td>\n",
       "      <td>0</td>\n",
       "      <td>0</td>\n",
       "      <td>1</td>\n",
       "      <td>0</td>\n",
       "      <td>0</td>\n",
       "      <td>0</td>\n",
       "      <td>0</td>\n",
       "      <td>0</td>\n",
       "      <td>0</td>\n",
       "    </tr>\n",
       "    <tr>\n",
       "      <th>3</th>\n",
       "      <td>57513</td>\n",
       "      <td>66113</td>\n",
       "      <td>88.48</td>\n",
       "      <td>67</td>\n",
       "      <td>22807</td>\n",
       "      <td>45</td>\n",
       "      <td>1501</td>\n",
       "      <td>1</td>\n",
       "      <td>6</td>\n",
       "      <td>1998</td>\n",
       "      <td>...</td>\n",
       "      <td>0</td>\n",
       "      <td>1</td>\n",
       "      <td>0</td>\n",
       "      <td>0</td>\n",
       "      <td>0</td>\n",
       "      <td>0</td>\n",
       "      <td>0</td>\n",
       "      <td>0</td>\n",
       "      <td>0</td>\n",
       "      <td>0</td>\n",
       "    </tr>\n",
       "    <tr>\n",
       "      <th>4</th>\n",
       "      <td>52378</td>\n",
       "      <td>60300</td>\n",
       "      <td>88.39</td>\n",
       "      <td>67</td>\n",
       "      <td>22807</td>\n",
       "      <td>45</td>\n",
       "      <td>1495</td>\n",
       "      <td>1</td>\n",
       "      <td>6</td>\n",
       "      <td>1998</td>\n",
       "      <td>...</td>\n",
       "      <td>0</td>\n",
       "      <td>0</td>\n",
       "      <td>0</td>\n",
       "      <td>1</td>\n",
       "      <td>0</td>\n",
       "      <td>0</td>\n",
       "      <td>0</td>\n",
       "      <td>0</td>\n",
       "      <td>0</td>\n",
       "      <td>0</td>\n",
       "    </tr>\n",
       "  </tbody>\n",
       "</table>\n",
       "<p>5 rows × 61 columns</p>\n",
       "</div>"
      ],
      "text/plain": [
       "   DISBURSED_AMOUNT  ASSET_COST    LTV  BRANCH_ID  SUPPLIER_ID  \\\n",
       "0             50578       58400  89.55         67        22807   \n",
       "1             47145       65550  73.23         67        22807   \n",
       "2             53278       61360  89.63         67        22807   \n",
       "3             57513       66113  88.48         67        22807   \n",
       "4             52378       60300  88.39         67        22807   \n",
       "\n",
       "   MANUFACTURER_ID  CURRENT_PINCODE_ID  EMPLOYMENT_TYPE  STATE_ID  \\\n",
       "0               45                1441                0         6   \n",
       "1               45                1502                1         6   \n",
       "2               45                1497                1         6   \n",
       "3               45                1501                1         6   \n",
       "4               45                1495                1         6   \n",
       "\n",
       "   EMPLOYEE_CODE_ID  ...  K-High Risk  L-Very High Risk  M-Very High Risk  \\\n",
       "0              1998  ...            0                 0                 0   \n",
       "1              1998  ...            0                 0                 0   \n",
       "2              1998  ...            0                 0                 0   \n",
       "3              1998  ...            0                 1                 0   \n",
       "4              1998  ...            0                 0                 0   \n",
       "\n",
       "   No Bureau History Available  \\\n",
       "0                            1   \n",
       "1                            0   \n",
       "2                            1   \n",
       "3                            0   \n",
       "4                            1   \n",
       "\n",
       "   Not Scored: More than 50 active Accounts found  \\\n",
       "0                                               0   \n",
       "1                                               0   \n",
       "2                                               0   \n",
       "3                                               0   \n",
       "4                                               0   \n",
       "\n",
       "   Not Scored: No Activity seen on the customer (Inactive)  \\\n",
       "0                                                  0         \n",
       "1                                                  0         \n",
       "2                                                  0         \n",
       "3                                                  0         \n",
       "4                                                  0         \n",
       "\n",
       "   Not Scored: No Updates available in last 36 months  \\\n",
       "0                                                  0    \n",
       "1                                                  0    \n",
       "2                                                  0    \n",
       "3                                                  0    \n",
       "4                                                  0    \n",
       "\n",
       "   Not Scored: Not Enough Info available on the customer  \\\n",
       "0                                                  0       \n",
       "1                                                  0       \n",
       "2                                                  0       \n",
       "3                                                  0       \n",
       "4                                                  0       \n",
       "\n",
       "   Not Scored: Only a Guarantor  Not Scored: Sufficient History Not Available  \n",
       "0                             0                                             0  \n",
       "1                             0                                             0  \n",
       "2                             0                                             0  \n",
       "3                             0                                             0  \n",
       "4                             0                                             0  \n",
       "\n",
       "[5 rows x 61 columns]"
      ]
     },
     "execution_count": 32,
     "metadata": {},
     "output_type": "execute_result"
    }
   ],
   "source": [
    "from sklearn.preprocessing import LabelEncoder\n",
    "# create a label encoder object\n",
    "le = LabelEncoder()\n",
    "\n",
    "# fit and transform the categorical column\n",
    "df['EMPLOYMENT_TYPE'] = le.fit_transform(df['EMPLOYMENT_TYPE'])\n",
    "\n",
    "# print the encoded dataframe\n",
    "df.head()"
   ]
  },
  {
   "cell_type": "code",
   "execution_count": 33,
   "metadata": {
    "colab": {
     "base_uri": "https://localhost:8080/"
    },
    "id": "JQsdcy3tUp7N",
    "outputId": "d5a740bf-419d-49b4-ff23-054d4d328ef9"
   },
   "outputs": [
    {
     "data": {
      "text/plain": [
       "dtype('int32')"
      ]
     },
     "execution_count": 33,
     "metadata": {},
     "output_type": "execute_result"
    }
   ],
   "source": [
    "df['EMPLOYMENT_TYPE'].dtypes"
   ]
  },
  {
   "cell_type": "markdown",
   "metadata": {
    "id": "4lZeDZkS_v6o"
   },
   "source": [
    "I feel BRANCH_ID,SUPPLier_ID, MANUFACTURER_ID, CURRENT_PINCODE_ID, STATE_ID,EMPLOYEE_CODE_ID are some of the unnecessary columns present in the data which does not affect the target variable.So, we can remove them."
   ]
  },
  {
   "cell_type": "code",
   "execution_count": 34,
   "metadata": {
    "colab": {
     "base_uri": "https://localhost:8080/",
     "height": 421
    },
    "id": "GjIpP50d_m1Q",
    "outputId": "22a1c306-d774-436f-f267-13aa8a18e601"
   },
   "outputs": [
    {
     "data": {
      "text/html": [
       "<div>\n",
       "<style scoped>\n",
       "    .dataframe tbody tr th:only-of-type {\n",
       "        vertical-align: middle;\n",
       "    }\n",
       "\n",
       "    .dataframe tbody tr th {\n",
       "        vertical-align: top;\n",
       "    }\n",
       "\n",
       "    .dataframe thead th {\n",
       "        text-align: right;\n",
       "    }\n",
       "</style>\n",
       "<table border=\"1\" class=\"dataframe\">\n",
       "  <thead>\n",
       "    <tr style=\"text-align: right;\">\n",
       "      <th></th>\n",
       "      <th>DISBURSED_AMOUNT</th>\n",
       "      <th>ASSET_COST</th>\n",
       "      <th>LTV</th>\n",
       "      <th>EMPLOYMENT_TYPE</th>\n",
       "      <th>MOBILENO_AVL_FLAG</th>\n",
       "      <th>AADHAR_FLAG</th>\n",
       "      <th>PAN_FLAG</th>\n",
       "      <th>VOTERID_FLAG</th>\n",
       "      <th>DRIVING_FLAG</th>\n",
       "      <th>PASSPORT_FLAG</th>\n",
       "      <th>...</th>\n",
       "      <th>K-High Risk</th>\n",
       "      <th>L-Very High Risk</th>\n",
       "      <th>M-Very High Risk</th>\n",
       "      <th>No Bureau History Available</th>\n",
       "      <th>Not Scored: More than 50 active Accounts found</th>\n",
       "      <th>Not Scored: No Activity seen on the customer (Inactive)</th>\n",
       "      <th>Not Scored: No Updates available in last 36 months</th>\n",
       "      <th>Not Scored: Not Enough Info available on the customer</th>\n",
       "      <th>Not Scored: Only a Guarantor</th>\n",
       "      <th>Not Scored: Sufficient History Not Available</th>\n",
       "    </tr>\n",
       "  </thead>\n",
       "  <tbody>\n",
       "    <tr>\n",
       "      <th>0</th>\n",
       "      <td>50578</td>\n",
       "      <td>58400</td>\n",
       "      <td>89.55</td>\n",
       "      <td>0</td>\n",
       "      <td>1</td>\n",
       "      <td>1</td>\n",
       "      <td>0</td>\n",
       "      <td>0</td>\n",
       "      <td>0</td>\n",
       "      <td>0</td>\n",
       "      <td>...</td>\n",
       "      <td>0</td>\n",
       "      <td>0</td>\n",
       "      <td>0</td>\n",
       "      <td>1</td>\n",
       "      <td>0</td>\n",
       "      <td>0</td>\n",
       "      <td>0</td>\n",
       "      <td>0</td>\n",
       "      <td>0</td>\n",
       "      <td>0</td>\n",
       "    </tr>\n",
       "    <tr>\n",
       "      <th>1</th>\n",
       "      <td>47145</td>\n",
       "      <td>65550</td>\n",
       "      <td>73.23</td>\n",
       "      <td>1</td>\n",
       "      <td>1</td>\n",
       "      <td>1</td>\n",
       "      <td>0</td>\n",
       "      <td>0</td>\n",
       "      <td>0</td>\n",
       "      <td>0</td>\n",
       "      <td>...</td>\n",
       "      <td>0</td>\n",
       "      <td>0</td>\n",
       "      <td>0</td>\n",
       "      <td>0</td>\n",
       "      <td>0</td>\n",
       "      <td>0</td>\n",
       "      <td>0</td>\n",
       "      <td>0</td>\n",
       "      <td>0</td>\n",
       "      <td>0</td>\n",
       "    </tr>\n",
       "    <tr>\n",
       "      <th>2</th>\n",
       "      <td>53278</td>\n",
       "      <td>61360</td>\n",
       "      <td>89.63</td>\n",
       "      <td>1</td>\n",
       "      <td>1</td>\n",
       "      <td>1</td>\n",
       "      <td>0</td>\n",
       "      <td>0</td>\n",
       "      <td>0</td>\n",
       "      <td>0</td>\n",
       "      <td>...</td>\n",
       "      <td>0</td>\n",
       "      <td>0</td>\n",
       "      <td>0</td>\n",
       "      <td>1</td>\n",
       "      <td>0</td>\n",
       "      <td>0</td>\n",
       "      <td>0</td>\n",
       "      <td>0</td>\n",
       "      <td>0</td>\n",
       "      <td>0</td>\n",
       "    </tr>\n",
       "    <tr>\n",
       "      <th>3</th>\n",
       "      <td>57513</td>\n",
       "      <td>66113</td>\n",
       "      <td>88.48</td>\n",
       "      <td>1</td>\n",
       "      <td>1</td>\n",
       "      <td>1</td>\n",
       "      <td>0</td>\n",
       "      <td>0</td>\n",
       "      <td>0</td>\n",
       "      <td>0</td>\n",
       "      <td>...</td>\n",
       "      <td>0</td>\n",
       "      <td>1</td>\n",
       "      <td>0</td>\n",
       "      <td>0</td>\n",
       "      <td>0</td>\n",
       "      <td>0</td>\n",
       "      <td>0</td>\n",
       "      <td>0</td>\n",
       "      <td>0</td>\n",
       "      <td>0</td>\n",
       "    </tr>\n",
       "    <tr>\n",
       "      <th>4</th>\n",
       "      <td>52378</td>\n",
       "      <td>60300</td>\n",
       "      <td>88.39</td>\n",
       "      <td>1</td>\n",
       "      <td>1</td>\n",
       "      <td>1</td>\n",
       "      <td>0</td>\n",
       "      <td>0</td>\n",
       "      <td>0</td>\n",
       "      <td>0</td>\n",
       "      <td>...</td>\n",
       "      <td>0</td>\n",
       "      <td>0</td>\n",
       "      <td>0</td>\n",
       "      <td>1</td>\n",
       "      <td>0</td>\n",
       "      <td>0</td>\n",
       "      <td>0</td>\n",
       "      <td>0</td>\n",
       "      <td>0</td>\n",
       "      <td>0</td>\n",
       "    </tr>\n",
       "  </tbody>\n",
       "</table>\n",
       "<p>5 rows × 55 columns</p>\n",
       "</div>"
      ],
      "text/plain": [
       "   DISBURSED_AMOUNT  ASSET_COST    LTV  EMPLOYMENT_TYPE  MOBILENO_AVL_FLAG  \\\n",
       "0             50578       58400  89.55                0                  1   \n",
       "1             47145       65550  73.23                1                  1   \n",
       "2             53278       61360  89.63                1                  1   \n",
       "3             57513       66113  88.48                1                  1   \n",
       "4             52378       60300  88.39                1                  1   \n",
       "\n",
       "   AADHAR_FLAG  PAN_FLAG  VOTERID_FLAG  DRIVING_FLAG  PASSPORT_FLAG  ...  \\\n",
       "0            1         0             0             0              0  ...   \n",
       "1            1         0             0             0              0  ...   \n",
       "2            1         0             0             0              0  ...   \n",
       "3            1         0             0             0              0  ...   \n",
       "4            1         0             0             0              0  ...   \n",
       "\n",
       "   K-High Risk  L-Very High Risk  M-Very High Risk  \\\n",
       "0            0                 0                 0   \n",
       "1            0                 0                 0   \n",
       "2            0                 0                 0   \n",
       "3            0                 1                 0   \n",
       "4            0                 0                 0   \n",
       "\n",
       "   No Bureau History Available  \\\n",
       "0                            1   \n",
       "1                            0   \n",
       "2                            1   \n",
       "3                            0   \n",
       "4                            1   \n",
       "\n",
       "   Not Scored: More than 50 active Accounts found  \\\n",
       "0                                               0   \n",
       "1                                               0   \n",
       "2                                               0   \n",
       "3                                               0   \n",
       "4                                               0   \n",
       "\n",
       "   Not Scored: No Activity seen on the customer (Inactive)  \\\n",
       "0                                                  0         \n",
       "1                                                  0         \n",
       "2                                                  0         \n",
       "3                                                  0         \n",
       "4                                                  0         \n",
       "\n",
       "   Not Scored: No Updates available in last 36 months  \\\n",
       "0                                                  0    \n",
       "1                                                  0    \n",
       "2                                                  0    \n",
       "3                                                  0    \n",
       "4                                                  0    \n",
       "\n",
       "   Not Scored: Not Enough Info available on the customer  \\\n",
       "0                                                  0       \n",
       "1                                                  0       \n",
       "2                                                  0       \n",
       "3                                                  0       \n",
       "4                                                  0       \n",
       "\n",
       "   Not Scored: Only a Guarantor  Not Scored: Sufficient History Not Available  \n",
       "0                             0                                             0  \n",
       "1                             0                                             0  \n",
       "2                             0                                             0  \n",
       "3                             0                                             0  \n",
       "4                             0                                             0  \n",
       "\n",
       "[5 rows x 55 columns]"
      ]
     },
     "execution_count": 34,
     "metadata": {},
     "output_type": "execute_result"
    }
   ],
   "source": [
    "df=df.drop(columns=['BRANCH_ID','SUPPLIER_ID','MANUFACTURER_ID','CURRENT_PINCODE_ID','STATE_ID','EMPLOYEE_CODE_ID'])\n",
    "df.head()"
   ]
  },
  {
   "cell_type": "code",
   "execution_count": 35,
   "metadata": {
    "colab": {
     "base_uri": "https://localhost:8080/"
    },
    "id": "RrI7euHCDdef",
    "outputId": "59974788-ec74-4033-ae08-49903dedbcdc"
   },
   "outputs": [
    {
     "data": {
      "text/plain": [
       "DISBURSED_AMOUNT                                             int64\n",
       "ASSET_COST                                                   int64\n",
       "LTV                                                        float64\n",
       "EMPLOYMENT_TYPE                                              int32\n",
       "MOBILENO_AVL_FLAG                                            int64\n",
       "AADHAR_FLAG                                                  int64\n",
       "PAN_FLAG                                                     int64\n",
       "VOTERID_FLAG                                                 int64\n",
       "DRIVING_FLAG                                                 int64\n",
       "PASSPORT_FLAG                                                int64\n",
       "PERFORM_CNS_SCORE                                            int64\n",
       "PRI_NO_OF_ACCTS                                              int64\n",
       "PRI_ACTIVE_ACCTS                                             int64\n",
       "PRI_OVERDUE_ACCTS                                            int64\n",
       "PRI_CURRENT_BALANCE                                          int64\n",
       "PRI_SANCTIONED_AMOUNT                                        int64\n",
       "PRI_DISBURSED_AMOUNT                                         int64\n",
       "SEC_NO_OF_ACCTS                                              int64\n",
       "SEC_ACTIVE_ACCTS                                             int64\n",
       "SEC_OVERDUE_ACCTS                                            int64\n",
       "SEC_CURRENT_BALANCE                                          int64\n",
       "SEC_SANCTIONED_AMOUNT                                        int64\n",
       "SEC_DISBURSED_AMOUNT                                         int64\n",
       "PRIMARY_INSTAL_AMT                                           int64\n",
       "SEC_INSTAL_AMT                                               int64\n",
       "NEW_ACCTS_IN_LAST_SIX_MONTHS                                 int64\n",
       "DELINQUENT_ACCTS_IN_LAST_SIX_MONTHS                          int64\n",
       "AVERAGE_ACCT_AGE                                           float64\n",
       "CREDIT_HISTORY_LENGTH                                      float64\n",
       "NO_OF_INQUIRIES                                              int64\n",
       "LOAN_DEFAULT                                                 int64\n",
       "DISBURSAL_year                                               int64\n",
       "DISBURSAL_month                                              int64\n",
       "DISBURSAL_day                                                int64\n",
       "AGE                                                        float64\n",
       "A-Very Low Risk                                              int32\n",
       "B-Very Low Risk                                              int32\n",
       "C-Very Low Risk                                              int32\n",
       "D-Very Low Risk                                              int32\n",
       "E-Low Risk                                                   int32\n",
       "F-Low Risk                                                   int32\n",
       "G-Low Risk                                                   int32\n",
       "H-Medium Risk                                                int32\n",
       "I-Medium Risk                                                int32\n",
       "J-High Risk                                                  int32\n",
       "K-High Risk                                                  int32\n",
       "L-Very High Risk                                             int32\n",
       "M-Very High Risk                                             int32\n",
       "No Bureau History Available                                  int32\n",
       "Not Scored: More than 50 active Accounts found               int32\n",
       "Not Scored: No Activity seen on the customer (Inactive)      int32\n",
       "Not Scored: No Updates available in last 36 months           int32\n",
       "Not Scored: Not Enough Info available on the customer        int32\n",
       "Not Scored: Only a Guarantor                                 int32\n",
       "Not Scored: Sufficient History Not Available                 int32\n",
       "dtype: object"
      ]
     },
     "execution_count": 35,
     "metadata": {},
     "output_type": "execute_result"
    }
   ],
   "source": [
    "df.dtypes"
   ]
  },
  {
   "cell_type": "markdown",
   "metadata": {
    "id": "z4oBWx-kV_fn"
   },
   "source": [
    "#Splitting the dataset"
   ]
  },
  {
   "cell_type": "code",
   "execution_count": 36,
   "metadata": {
    "colab": {
     "base_uri": "https://localhost:8080/"
    },
    "id": "vBstTDzQWDWH",
    "outputId": "5a0ea40f-3c44-4502-ae58-d97c1dc3cacb"
   },
   "outputs": [
    {
     "name": "stdout",
     "output_type": "stream",
     "text": [
      "(233154,) (233154, 54)\n"
     ]
    }
   ],
   "source": [
    "y= df['LOAN_DEFAULT']\n",
    "X= df.drop('LOAN_DEFAULT',axis=1)\n",
    "print(y.shape, X.shape)"
   ]
  },
  {
   "cell_type": "code",
   "execution_count": 37,
   "metadata": {
    "id": "uSHWKjQnYfSs"
   },
   "outputs": [],
   "source": [
    "# convert y to a 1-dimensional array\n",
    "y = y.ravel()"
   ]
  },
  {
   "cell_type": "markdown",
   "metadata": {
    "id": "2dSdblvpJAP_"
   },
   "source": [
    "#Random Forest Feature Selection"
   ]
  },
  {
   "cell_type": "code",
   "execution_count": 38,
   "metadata": {
    "colab": {
     "base_uri": "https://localhost:8080/"
    },
    "id": "1onDWqo4JDkq",
    "outputId": "d9d8f187-15b4-4d53-a829-c152917f08a4"
   },
   "outputs": [
    {
     "name": "stdout",
     "output_type": "stream",
     "text": [
      "                                              feature    importance\n",
      "2                                                 LTV  1.457843e-01\n",
      "33                                                AGE  1.411520e-01\n",
      "1                                          ASSET_COST  1.409041e-01\n",
      "0                                    DISBURSED_AMOUNT  1.382794e-01\n",
      "32                                      DISBURSAL_day  7.742491e-02\n",
      "31                                    DISBURSAL_month  3.726560e-02\n",
      "28                              CREDIT_HISTORY_LENGTH  2.945377e-02\n",
      "14                                PRI_CURRENT_BALANCE  2.876643e-02\n",
      "15                              PRI_SANCTIONED_AMOUNT  2.791912e-02\n",
      "27                                   AVERAGE_ACCT_AGE  2.762840e-02\n",
      "16                               PRI_DISBURSED_AMOUNT  2.760498e-02\n",
      "23                                 PRIMARY_INSTAL_AMT  2.712737e-02\n",
      "10                                  PERFORM_CNS_SCORE  2.700463e-02\n",
      "11                                    PRI_NO_OF_ACCTS  1.773510e-02\n",
      "29                                    NO_OF_INQUIRIES  1.388061e-02\n",
      "3                                     EMPLOYMENT_TYPE  1.229210e-02\n",
      "12                                   PRI_ACTIVE_ACCTS  1.048400e-02\n",
      "25                       NEW_ACCTS_IN_LAST_SIX_MONTHS  7.880685e-03\n",
      "6                                            PAN_FLAG  7.155171e-03\n",
      "13                                  PRI_OVERDUE_ACCTS  5.314731e-03\n",
      "5                                         AADHAR_FLAG  5.066774e-03\n",
      "7                                        VOTERID_FLAG  4.884773e-03\n",
      "26                DELINQUENT_ACCTS_IN_LAST_SIX_MONTHS  4.831364e-03\n",
      "8                                        DRIVING_FLAG  2.769778e-03\n",
      "17                                    SEC_NO_OF_ACCTS  1.981023e-03\n",
      "41                                      H-Medium Risk  1.686858e-03\n",
      "42                                      I-Medium Risk  1.671889e-03\n",
      "44                                        K-High Risk  1.660186e-03\n",
      "46                                   M-Very High Risk  1.605420e-03\n",
      "36                                    C-Very Low Risk  1.535952e-03\n",
      "39                                         F-Low Risk  1.483667e-03\n",
      "37                                    D-Very Low Risk  1.454067e-03\n",
      "22                               SEC_DISBURSED_AMOUNT  1.407789e-03\n",
      "21                              SEC_SANCTIONED_AMOUNT  1.396823e-03\n",
      "20                                SEC_CURRENT_BALANCE  1.303017e-03\n",
      "43                                        J-High Risk  1.258519e-03\n",
      "38                                         E-Low Risk  1.231882e-03\n",
      "35                                    B-Very Low Risk  1.208850e-03\n",
      "24                                     SEC_INSTAL_AMT  1.180178e-03\n",
      "40                                         G-Low Risk  1.131097e-03\n",
      "34                                    A-Very Low Risk  1.069624e-03\n",
      "18                                   SEC_ACTIVE_ACCTS  9.535605e-04\n",
      "51  Not Scored: Not Enough Info available on the c...  8.758282e-04\n",
      "49  Not Scored: No Activity seen on the customer (...  8.461622e-04\n",
      "47                        No Bureau History Available  8.389420e-04\n",
      "53       Not Scored: Sufficient History Not Available  7.580049e-04\n",
      "45                                   L-Very High Risk  7.264239e-04\n",
      "50  Not Scored: No Updates available in last 36 mo...  6.070717e-04\n",
      "19                                  SEC_OVERDUE_ACCTS  5.894567e-04\n",
      "52                       Not Scored: Only a Guarantor  4.726351e-04\n",
      "9                                       PASSPORT_FLAG  4.546334e-04\n",
      "48     Not Scored: More than 50 active Accounts found  3.555708e-07\n",
      "30                                     DISBURSAL_year  0.000000e+00\n",
      "4                                   MOBILENO_AVL_FLAG  0.000000e+00\n"
     ]
    }
   ],
   "source": [
    "from sklearn.ensemble import RandomForestClassifier\n",
    "# Initialize a random forest classifier\n",
    "rf = RandomForestClassifier()\n",
    "\n",
    "# Fit the classifier to the data\n",
    "rf.fit(X, y)\n",
    "\n",
    "# Get the feature importances\n",
    "importances = rf.feature_importances_\n",
    "\n",
    "# Create a DataFrame with feature names and importances\n",
    "feature_importances = pd.DataFrame({'feature': X.columns, 'importance': importances})\n",
    "\n",
    "# Sort the DataFrame by importance\n",
    "feature_importances = feature_importances.sort_values('importance', ascending=False)\n",
    "\n",
    "# Print the feature importances\n",
    "print(feature_importances)"
   ]
  },
  {
   "cell_type": "markdown",
   "metadata": {
    "id": "xRGC_q9gNbic"
   },
   "source": [
    "Based on the importance of the features, we can further remove some columns while training."
   ]
  },
  {
   "cell_type": "code",
   "execution_count": 39,
   "metadata": {
    "id": "fCMlU4pMNaxs"
   },
   "outputs": [],
   "source": [
    "X= X.drop(columns=['MOBILENO_AVL_FLAG','DISBURSAL_year'])"
   ]
  },
  {
   "cell_type": "code",
   "execution_count": 40,
   "metadata": {
    "id": "b9Ub_IwvbXcZ"
   },
   "outputs": [],
   "source": [
    "from sklearn.model_selection import train_test_split\n",
    "X_train, X_test, y_train, y_test = train_test_split(X, y, test_size = 0.20, random_state = 101)\n"
   ]
  },
  {
   "cell_type": "markdown",
   "metadata": {
    "id": "GRbBqd0OblG8"
   },
   "source": [
    "Since this is an imbalanced dataset , we can perform 3 things to balance the distribution of classes while training;\n",
    "\n",
    "1. Upsampling- Randomly increasing the minority class in the training set.\n",
    "2. Downsampling- Randomly decreasing the majority class in the training set.\n",
    "3. SMOTE- Synthetic Minority Over-sampling Technique involves generating synthetic instances of the minority class in the training set to balance the class distribution."
   ]
  },
  {
   "cell_type": "markdown",
   "metadata": {
    "id": "bEa9CGGIcmGL"
   },
   "source": [
    "Since, our dataset is inclined towards not default, chances of true negatives predictions are high. Hence, we shall use upsampling to balance the classes."
   ]
  },
  {
   "cell_type": "code",
   "execution_count": 41,
   "metadata": {
    "colab": {
     "base_uri": "https://localhost:8080/"
    },
    "id": "q5RQ7TwmbjJK",
    "outputId": "b6155e33-f3eb-4afc-ba25-0a0a3c2b2165"
   },
   "outputs": [
    {
     "name": "stdout",
     "output_type": "stream",
     "text": [
      "Collecting imblearn\n",
      "  Downloading imblearn-0.0-py2.py3-none-any.whl (1.9 kB)\n",
      "Collecting imbalanced-learn\n",
      "  Downloading imbalanced_learn-0.10.1-py3-none-any.whl (226 kB)\n",
      "Requirement already satisfied: numpy>=1.17.3 in c:\\users\\a k fuley\\anaconda3\\lib\\site-packages (from imbalanced-learn->imblearn) (1.21.2)\n",
      "Requirement already satisfied: scikit-learn>=1.0.2 in c:\\users\\a k fuley\\anaconda3\\lib\\site-packages (from imbalanced-learn->imblearn) (1.1.1)\n",
      "Requirement already satisfied: scipy>=1.3.2 in c:\\users\\a k fuley\\anaconda3\\lib\\site-packages (from imbalanced-learn->imblearn) (1.7.1)\n",
      "Requirement already satisfied: threadpoolctl>=2.0.0 in c:\\users\\a k fuley\\anaconda3\\lib\\site-packages (from imbalanced-learn->imblearn) (2.2.0)\n",
      "Collecting joblib>=1.1.1\n",
      "  Downloading joblib-1.2.0-py3-none-any.whl (297 kB)\n",
      "Installing collected packages: joblib, imbalanced-learn, imblearn\n",
      "  Attempting uninstall: joblib\n",
      "    Found existing installation: joblib 1.0.1\n",
      "    Uninstalling joblib-1.0.1:\n",
      "      Successfully uninstalled joblib-1.0.1\n",
      "Successfully installed imbalanced-learn-0.10.1 imblearn-0.0 joblib-1.2.0\n"
     ]
    }
   ],
   "source": [
    "!pip install imblearn"
   ]
  },
  {
   "cell_type": "code",
   "execution_count": 42,
   "metadata": {
    "id": "Sfq0mFhDfpyS"
   },
   "outputs": [],
   "source": [
    "from imblearn.over_sampling import RandomOverSampler\n",
    "\n",
    "ros = RandomOverSampler(random_state=42)\n",
    "X_train, y_train = ros.fit_resample(X_train, y_train)\n"
   ]
  },
  {
   "cell_type": "markdown",
   "metadata": {
    "id": "XxEP6iDBCaat"
   },
   "source": [
    "#Normalization"
   ]
  },
  {
   "cell_type": "code",
   "execution_count": 43,
   "metadata": {
    "id": "Exa_bDAvFZ5R"
   },
   "outputs": [],
   "source": [
    "from sklearn.preprocessing import MinMaxScaler\n",
    "\n",
    "# Create a MinMaxScaler object\n",
    "scaler = MinMaxScaler()\n",
    "\n",
    "# Fit the scaler on the training data and transform it\n",
    "X_train_norm = scaler.fit_transform(X_train)\n",
    "X_train_norm= pd.DataFrame(X_train_norm)\n",
    "X_test_norm = scaler.transform(X_test)\n",
    "X_test_norm= pd.DataFrame(X_test_norm)"
   ]
  },
  {
   "cell_type": "markdown",
   "metadata": {
    "id": "CX_mbteqOE3h"
   },
   "source": [
    "#Model Training"
   ]
  },
  {
   "cell_type": "code",
   "execution_count": 44,
   "metadata": {
    "id": "Kkv8uC-IzbQ6"
   },
   "outputs": [],
   "source": [
    "#Importing necessary libraries\n",
    "from sklearn.metrics import confusion_matrix\n",
    "from sklearn.metrics import classification_report\n",
    "from sklearn.metrics import accuracy_score\n",
    "from sklearn.linear_model import LogisticRegression\n",
    "from sklearn.tree import DecisionTreeClassifier\n",
    "from sklearn.ensemble import RandomForestClassifier\n",
    "from sklearn.svm import SVC\n",
    "from sklearn.neighbors import KNeighborsClassifier"
   ]
  },
  {
   "cell_type": "code",
   "execution_count": 45,
   "metadata": {
    "colab": {
     "base_uri": "https://localhost:8080/",
     "height": 214
    },
    "id": "z2FsIbQ9jbVg",
    "outputId": "6a840d19-f26d-4e2c-f86b-fd36a8835b9a"
   },
   "outputs": [
    {
     "name": "stderr",
     "output_type": "stream",
     "text": [
      "C:\\Users\\A K Fuley\\anaconda3\\lib\\site-packages\\sklearn\\linear_model\\_logistic.py:444: ConvergenceWarning: lbfgs failed to converge (status=1):\n",
      "STOP: TOTAL NO. of ITERATIONS REACHED LIMIT.\n",
      "\n",
      "Increase the number of iterations (max_iter) or scale the data as shown in:\n",
      "    https://scikit-learn.org/stable/modules/preprocessing.html\n",
      "Please also refer to the documentation for alternative solver options:\n",
      "    https://scikit-learn.org/stable/modules/linear_model.html#logistic-regression\n",
      "  n_iter_i = _check_optimize_result(\n"
     ]
    },
    {
     "data": {
      "text/html": [
       "<style>#sk-container-id-1 {color: black;background-color: white;}#sk-container-id-1 pre{padding: 0;}#sk-container-id-1 div.sk-toggleable {background-color: white;}#sk-container-id-1 label.sk-toggleable__label {cursor: pointer;display: block;width: 100%;margin-bottom: 0;padding: 0.3em;box-sizing: border-box;text-align: center;}#sk-container-id-1 label.sk-toggleable__label-arrow:before {content: \"▸\";float: left;margin-right: 0.25em;color: #696969;}#sk-container-id-1 label.sk-toggleable__label-arrow:hover:before {color: black;}#sk-container-id-1 div.sk-estimator:hover label.sk-toggleable__label-arrow:before {color: black;}#sk-container-id-1 div.sk-toggleable__content {max-height: 0;max-width: 0;overflow: hidden;text-align: left;background-color: #f0f8ff;}#sk-container-id-1 div.sk-toggleable__content pre {margin: 0.2em;color: black;border-radius: 0.25em;background-color: #f0f8ff;}#sk-container-id-1 input.sk-toggleable__control:checked~div.sk-toggleable__content {max-height: 200px;max-width: 100%;overflow: auto;}#sk-container-id-1 input.sk-toggleable__control:checked~label.sk-toggleable__label-arrow:before {content: \"▾\";}#sk-container-id-1 div.sk-estimator input.sk-toggleable__control:checked~label.sk-toggleable__label {background-color: #d4ebff;}#sk-container-id-1 div.sk-label input.sk-toggleable__control:checked~label.sk-toggleable__label {background-color: #d4ebff;}#sk-container-id-1 input.sk-hidden--visually {border: 0;clip: rect(1px 1px 1px 1px);clip: rect(1px, 1px, 1px, 1px);height: 1px;margin: -1px;overflow: hidden;padding: 0;position: absolute;width: 1px;}#sk-container-id-1 div.sk-estimator {font-family: monospace;background-color: #f0f8ff;border: 1px dotted black;border-radius: 0.25em;box-sizing: border-box;margin-bottom: 0.5em;}#sk-container-id-1 div.sk-estimator:hover {background-color: #d4ebff;}#sk-container-id-1 div.sk-parallel-item::after {content: \"\";width: 100%;border-bottom: 1px solid gray;flex-grow: 1;}#sk-container-id-1 div.sk-label:hover label.sk-toggleable__label {background-color: #d4ebff;}#sk-container-id-1 div.sk-serial::before {content: \"\";position: absolute;border-left: 1px solid gray;box-sizing: border-box;top: 0;bottom: 0;left: 50%;z-index: 0;}#sk-container-id-1 div.sk-serial {display: flex;flex-direction: column;align-items: center;background-color: white;padding-right: 0.2em;padding-left: 0.2em;position: relative;}#sk-container-id-1 div.sk-item {position: relative;z-index: 1;}#sk-container-id-1 div.sk-parallel {display: flex;align-items: stretch;justify-content: center;background-color: white;position: relative;}#sk-container-id-1 div.sk-item::before, #sk-container-id-1 div.sk-parallel-item::before {content: \"\";position: absolute;border-left: 1px solid gray;box-sizing: border-box;top: 0;bottom: 0;left: 50%;z-index: -1;}#sk-container-id-1 div.sk-parallel-item {display: flex;flex-direction: column;z-index: 1;position: relative;background-color: white;}#sk-container-id-1 div.sk-parallel-item:first-child::after {align-self: flex-end;width: 50%;}#sk-container-id-1 div.sk-parallel-item:last-child::after {align-self: flex-start;width: 50%;}#sk-container-id-1 div.sk-parallel-item:only-child::after {width: 0;}#sk-container-id-1 div.sk-dashed-wrapped {border: 1px dashed gray;margin: 0 0.4em 0.5em 0.4em;box-sizing: border-box;padding-bottom: 0.4em;background-color: white;}#sk-container-id-1 div.sk-label label {font-family: monospace;font-weight: bold;display: inline-block;line-height: 1.2em;}#sk-container-id-1 div.sk-label-container {text-align: center;}#sk-container-id-1 div.sk-container {/* jupyter's `normalize.less` sets `[hidden] { display: none; }` but bootstrap.min.css set `[hidden] { display: none !important; }` so we also need the `!important` here to be able to override the default hidden behavior on the sphinx rendered scikit-learn.org. See: https://github.com/scikit-learn/scikit-learn/issues/21755 */display: inline-block !important;position: relative;}#sk-container-id-1 div.sk-text-repr-fallback {display: none;}</style><div id=\"sk-container-id-1\" class=\"sk-top-container\"><div class=\"sk-text-repr-fallback\"><pre>KNeighborsClassifier()</pre><b>In a Jupyter environment, please rerun this cell to show the HTML representation or trust the notebook. <br />On GitHub, the HTML representation is unable to render, please try loading this page with nbviewer.org.</b></div><div class=\"sk-container\" hidden><div class=\"sk-item\"><div class=\"sk-estimator sk-toggleable\"><input class=\"sk-toggleable__control sk-hidden--visually\" id=\"sk-estimator-id-1\" type=\"checkbox\" checked><label for=\"sk-estimator-id-1\" class=\"sk-toggleable__label sk-toggleable__label-arrow\">KNeighborsClassifier</label><div class=\"sk-toggleable__content\"><pre>KNeighborsClassifier()</pre></div></div></div></div></div>"
      ],
      "text/plain": [
       "KNeighborsClassifier()"
      ]
     },
     "execution_count": 45,
     "metadata": {},
     "output_type": "execute_result"
    }
   ],
   "source": [
    "# Logistic Regression\n",
    "lr = LogisticRegression()\n",
    "lr.fit(X_train_norm, y_train)\n",
    "\n",
    "# Decision Tree\n",
    "dt = DecisionTreeClassifier()\n",
    "dt.fit(X_train_norm, y_train)\n",
    "\n",
    "# Random Forest\n",
    "rf = RandomForestClassifier()\n",
    "rf.fit(X_train_norm, y_train)\n",
    "\n",
    "# K-Nearest Neighbors\n",
    "knn = KNeighborsClassifier()\n",
    "knn.fit(X_train_norm, y_train)\n"
   ]
  },
  {
   "cell_type": "markdown",
   "metadata": {
    "id": "XdYugGKNd49D"
   },
   "source": [
    "#Model Evaluation"
   ]
  },
  {
   "cell_type": "code",
   "execution_count": 46,
   "metadata": {
    "colab": {
     "base_uri": "https://localhost:8080/"
    },
    "id": "PgF_6NQN51ku",
    "outputId": "8cc59d59-6dce-40bc-cca1-409b56b09632"
   },
   "outputs": [
    {
     "name": "stdout",
     "output_type": "stream",
     "text": [
      "Logistic Regression:\n",
      "Accuracy: 0.5656751946130256\n",
      "Confusion Matrix:\n",
      " [[19928 16577]\n",
      " [ 3676  6450]]\n",
      "Classification Report:\n",
      "               precision    recall  f1-score   support\n",
      "\n",
      "           0       0.84      0.55      0.66     36505\n",
      "           1       0.28      0.64      0.39     10126\n",
      "\n",
      "    accuracy                           0.57     46631\n",
      "   macro avg       0.56      0.59      0.53     46631\n",
      "weighted avg       0.72      0.57      0.60     46631\n",
      "\n",
      "Decision Tree:\n",
      "Accuracy: 0.6692972486114387\n",
      "Confusion Matrix:\n",
      " [[28603  7902]\n",
      " [ 7519  2607]]\n",
      "Classification Report:\n",
      "               precision    recall  f1-score   support\n",
      "\n",
      "           0       0.79      0.78      0.79     36505\n",
      "           1       0.25      0.26      0.25     10126\n",
      "\n",
      "    accuracy                           0.67     46631\n",
      "   macro avg       0.52      0.52      0.52     46631\n",
      "weighted avg       0.67      0.67      0.67     46631\n",
      "\n",
      "Random Forest:\n",
      "Accuracy: 0.7641697583152838\n",
      "Confusion Matrix:\n",
      " [[34565  1940]\n",
      " [ 9057  1069]]\n",
      "Classification Report:\n",
      "               precision    recall  f1-score   support\n",
      "\n",
      "           0       0.79      0.95      0.86     36505\n",
      "           1       0.36      0.11      0.16     10126\n",
      "\n",
      "    accuracy                           0.76     46631\n",
      "   macro avg       0.57      0.53      0.51     46631\n",
      "weighted avg       0.70      0.76      0.71     46631\n",
      "\n",
      "K-Nearest Neighbors:\n",
      "Accuracy: 0.562780124809676\n",
      "Confusion Matrix:\n",
      " [[21459 15046]\n",
      " [ 5342  4784]]\n",
      "Classification Report:\n",
      "               precision    recall  f1-score   support\n",
      "\n",
      "           0       0.80      0.59      0.68     36505\n",
      "           1       0.24      0.47      0.32     10126\n",
      "\n",
      "    accuracy                           0.56     46631\n",
      "   macro avg       0.52      0.53      0.50     46631\n",
      "weighted avg       0.68      0.56      0.60     46631\n",
      "\n"
     ]
    }
   ],
   "source": [
    "# Logistic Regression\n",
    "y_pred_lr = lr.predict(X_test_norm)\n",
    "print('Logistic Regression:')\n",
    "print('Accuracy:', accuracy_score(y_test, y_pred_lr))\n",
    "print('Confusion Matrix:\\n', confusion_matrix(y_test, y_pred_lr))\n",
    "print('Classification Report:\\n', classification_report(y_test, y_pred_lr))\n",
    "\n",
    "# Decision Tree\n",
    "y_pred_dt = dt.predict(X_test_norm)\n",
    "print('Decision Tree:')\n",
    "print('Accuracy:', accuracy_score(y_test, y_pred_dt))\n",
    "print('Confusion Matrix:\\n', confusion_matrix(y_test, y_pred_dt))\n",
    "print('Classification Report:\\n', classification_report(y_test, y_pred_dt))\n",
    "\n",
    "# Random Forest\n",
    "y_pred_rf = rf.predict(X_test_norm)\n",
    "print('Random Forest:')\n",
    "print('Accuracy:', accuracy_score(y_test, y_pred_rf))\n",
    "print('Confusion Matrix:\\n', confusion_matrix(y_test, y_pred_rf))\n",
    "print('Classification Report:\\n', classification_report(y_test, y_pred_rf))\n",
    "\n",
    "# K-Nearest Neighbors\n",
    "y_pred_knn = knn.predict(X_test_norm)\n",
    "print('K-Nearest Neighbors:')\n",
    "print('Accuracy:', accuracy_score(y_test, y_pred_knn))\n",
    "print('Confusion Matrix:\\n', confusion_matrix(y_test, y_pred_knn))\n",
    "print('Classification Report:\\n', classification_report(y_test, y_pred_knn))\n"
   ]
  },
  {
   "cell_type": "code",
   "execution_count": 47,
   "metadata": {
    "colab": {
     "base_uri": "https://localhost:8080/"
    },
    "id": "fnErdQgza_GG",
    "outputId": "f91de8ca-c73d-4917-a9b2-47d5597f429d"
   },
   "outputs": [
    {
     "name": "stdout",
     "output_type": "stream",
     "text": [
      "AUC-ROC score for logistic regression: 0.5914359741141902\n",
      "AUC-ROC score for decision tree : 0.5204962777860753\n",
      "AUC-ROC score for random forest: 0.5262132076258266\n",
      "AUC-ROC score for KNN: 0.5301422241380304\n"
     ]
    }
   ],
   "source": [
    "from sklearn.metrics import roc_auc_score\n",
    "\n",
    "print(\"AUC-ROC score for logistic regression:\",roc_auc_score(y_test, y_pred_lr))\n",
    "print(\"AUC-ROC score for decision tree :\",roc_auc_score(y_test, y_pred_dt))\n",
    "print(\"AUC-ROC score for random forest:\",roc_auc_score(y_test, y_pred_rf))\n",
    "print(\"AUC-ROC score for KNN:\",roc_auc_score(y_test, y_pred_knn))\n"
   ]
  },
  {
   "cell_type": "markdown",
   "metadata": {
    "id": "upyQDw1WW_UM"
   },
   "source": [
    "#Thus we see that Random Forest is giving us the best accuracy of 77.68 %."
   ]
  }
 ],
 "metadata": {
  "colab": {
   "provenance": []
  },
  "kernelspec": {
   "display_name": "Python 3 (ipykernel)",
   "language": "python",
   "name": "python3"
  },
  "language_info": {
   "codemirror_mode": {
    "name": "ipython",
    "version": 3
   },
   "file_extension": ".py",
   "mimetype": "text/x-python",
   "name": "python",
   "nbconvert_exporter": "python",
   "pygments_lexer": "ipython3",
   "version": "3.8.12"
  },
  "widgets": {
   "application/vnd.jupyter.widget-state+json": {
    "4e30d9e5fc744d1f844e8bd1a3fcd80e": {
     "model_module": "@jupyter-widgets/controls",
     "model_module_version": "1.5.0",
     "model_name": "FloatProgressModel",
     "state": {
      "_dom_classes": [],
      "_model_module": "@jupyter-widgets/controls",
      "_model_module_version": "1.5.0",
      "_model_name": "FloatProgressModel",
      "_view_count": null,
      "_view_module": "@jupyter-widgets/controls",
      "_view_module_version": "1.5.0",
      "_view_name": "ProgressView",
      "bar_style": "success",
      "description": "",
      "description_tooltip": null,
      "layout": "IPY_MODEL_bd8a506795bf4d4b8abe42bf56cf35dc",
      "max": 1,
      "min": 0,
      "orientation": "horizontal",
      "style": "IPY_MODEL_56f6e97ed2cb46749cf08ab4ec1f52a7",
      "value": 1
     }
    },
    "56f6e97ed2cb46749cf08ab4ec1f52a7": {
     "model_module": "@jupyter-widgets/controls",
     "model_module_version": "1.5.0",
     "model_name": "ProgressStyleModel",
     "state": {
      "_model_module": "@jupyter-widgets/controls",
      "_model_module_version": "1.5.0",
      "_model_name": "ProgressStyleModel",
      "_view_count": null,
      "_view_module": "@jupyter-widgets/base",
      "_view_module_version": "1.2.0",
      "_view_name": "StyleView",
      "bar_color": null,
      "description_width": ""
     }
    },
    "6766bebb8579426a8a4b4c7315f806b7": {
     "model_module": "@jupyter-widgets/base",
     "model_module_version": "1.2.0",
     "model_name": "LayoutModel",
     "state": {
      "_model_module": "@jupyter-widgets/base",
      "_model_module_version": "1.2.0",
      "_model_name": "LayoutModel",
      "_view_count": null,
      "_view_module": "@jupyter-widgets/base",
      "_view_module_version": "1.2.0",
      "_view_name": "LayoutView",
      "align_content": null,
      "align_items": null,
      "align_self": null,
      "border": null,
      "bottom": null,
      "display": "inline-flex",
      "flex": null,
      "flex_flow": "row wrap",
      "grid_area": null,
      "grid_auto_columns": null,
      "grid_auto_flow": null,
      "grid_auto_rows": null,
      "grid_column": null,
      "grid_gap": null,
      "grid_row": null,
      "grid_template_areas": null,
      "grid_template_columns": null,
      "grid_template_rows": null,
      "height": null,
      "justify_content": null,
      "justify_items": null,
      "left": null,
      "margin": null,
      "max_height": null,
      "max_width": null,
      "min_height": null,
      "min_width": null,
      "object_fit": null,
      "object_position": null,
      "order": null,
      "overflow": null,
      "overflow_x": null,
      "overflow_y": null,
      "padding": null,
      "right": null,
      "top": null,
      "visibility": null,
      "width": "100%"
     }
    },
    "73a1f2a73bcb445d926c5ac272e2093b": {
     "model_module": "@jupyter-widgets/base",
     "model_module_version": "1.2.0",
     "model_name": "LayoutModel",
     "state": {
      "_model_module": "@jupyter-widgets/base",
      "_model_module_version": "1.2.0",
      "_model_name": "LayoutModel",
      "_view_count": null,
      "_view_module": "@jupyter-widgets/base",
      "_view_module_version": "1.2.0",
      "_view_name": "LayoutView",
      "align_content": null,
      "align_items": null,
      "align_self": null,
      "border": null,
      "bottom": null,
      "display": null,
      "flex": null,
      "flex_flow": null,
      "grid_area": null,
      "grid_auto_columns": null,
      "grid_auto_flow": null,
      "grid_auto_rows": null,
      "grid_column": null,
      "grid_gap": null,
      "grid_row": null,
      "grid_template_areas": null,
      "grid_template_columns": null,
      "grid_template_rows": null,
      "height": null,
      "justify_content": null,
      "justify_items": null,
      "left": null,
      "margin": null,
      "max_height": null,
      "max_width": null,
      "min_height": null,
      "min_width": null,
      "object_fit": null,
      "object_position": null,
      "order": null,
      "overflow": null,
      "overflow_x": null,
      "overflow_y": null,
      "padding": null,
      "right": null,
      "top": null,
      "visibility": null,
      "width": null
     }
    },
    "951e708d5d4142c8b4afd94ab174c1bd": {
     "model_module": "@jupyter-widgets/base",
     "model_module_version": "1.2.0",
     "model_name": "LayoutModel",
     "state": {
      "_model_module": "@jupyter-widgets/base",
      "_model_module_version": "1.2.0",
      "_model_name": "LayoutModel",
      "_view_count": null,
      "_view_module": "@jupyter-widgets/base",
      "_view_module_version": "1.2.0",
      "_view_name": "LayoutView",
      "align_content": null,
      "align_items": null,
      "align_self": null,
      "border": null,
      "bottom": null,
      "display": null,
      "flex": null,
      "flex_flow": null,
      "grid_area": null,
      "grid_auto_columns": null,
      "grid_auto_flow": null,
      "grid_auto_rows": null,
      "grid_column": null,
      "grid_gap": null,
      "grid_row": null,
      "grid_template_areas": null,
      "grid_template_columns": null,
      "grid_template_rows": null,
      "height": null,
      "justify_content": null,
      "justify_items": null,
      "left": null,
      "margin": null,
      "max_height": null,
      "max_width": null,
      "min_height": null,
      "min_width": null,
      "object_fit": null,
      "object_position": null,
      "order": null,
      "overflow": null,
      "overflow_x": null,
      "overflow_y": null,
      "padding": null,
      "right": null,
      "top": null,
      "visibility": null,
      "width": null
     }
    },
    "999870b23f9c4f2f9a89632423ed5385": {
     "model_module": "@jupyter-widgets/controls",
     "model_module_version": "1.5.0",
     "model_name": "HTMLModel",
     "state": {
      "_dom_classes": [],
      "_model_module": "@jupyter-widgets/controls",
      "_model_module_version": "1.5.0",
      "_model_name": "HTMLModel",
      "_view_count": null,
      "_view_module": "@jupyter-widgets/controls",
      "_view_module_version": "1.5.0",
      "_view_name": "HTMLView",
      "description": "",
      "description_tooltip": null,
      "layout": "IPY_MODEL_73a1f2a73bcb445d926c5ac272e2093b",
      "placeholder": "​",
      "style": "IPY_MODEL_da15eb5cc14e4915a22657a710fa4760",
      "value": "Done! Use &#x27;show&#x27; commands to display/save.   "
     }
    },
    "bd8a506795bf4d4b8abe42bf56cf35dc": {
     "model_module": "@jupyter-widgets/base",
     "model_module_version": "1.2.0",
     "model_name": "LayoutModel",
     "state": {
      "_model_module": "@jupyter-widgets/base",
      "_model_module_version": "1.2.0",
      "_model_name": "LayoutModel",
      "_view_count": null,
      "_view_module": "@jupyter-widgets/base",
      "_view_module_version": "1.2.0",
      "_view_name": "LayoutView",
      "align_content": null,
      "align_items": null,
      "align_self": null,
      "border": null,
      "bottom": null,
      "display": null,
      "flex": "2",
      "flex_flow": null,
      "grid_area": null,
      "grid_auto_columns": null,
      "grid_auto_flow": null,
      "grid_auto_rows": null,
      "grid_column": null,
      "grid_gap": null,
      "grid_row": null,
      "grid_template_areas": null,
      "grid_template_columns": null,
      "grid_template_rows": null,
      "height": null,
      "justify_content": null,
      "justify_items": null,
      "left": null,
      "margin": null,
      "max_height": null,
      "max_width": null,
      "min_height": null,
      "min_width": null,
      "object_fit": null,
      "object_position": null,
      "order": null,
      "overflow": null,
      "overflow_x": null,
      "overflow_y": null,
      "padding": null,
      "right": null,
      "top": null,
      "visibility": null,
      "width": null
     }
    },
    "da15eb5cc14e4915a22657a710fa4760": {
     "model_module": "@jupyter-widgets/controls",
     "model_module_version": "1.5.0",
     "model_name": "DescriptionStyleModel",
     "state": {
      "_model_module": "@jupyter-widgets/controls",
      "_model_module_version": "1.5.0",
      "_model_name": "DescriptionStyleModel",
      "_view_count": null,
      "_view_module": "@jupyter-widgets/base",
      "_view_module_version": "1.2.0",
      "_view_name": "StyleView",
      "description_width": ""
     }
    },
    "e74d6f2f882141dfb60a9e7dfa9f145b": {
     "model_module": "@jupyter-widgets/controls",
     "model_module_version": "1.5.0",
     "model_name": "DescriptionStyleModel",
     "state": {
      "_model_module": "@jupyter-widgets/controls",
      "_model_module_version": "1.5.0",
      "_model_name": "DescriptionStyleModel",
      "_view_count": null,
      "_view_module": "@jupyter-widgets/base",
      "_view_module_version": "1.2.0",
      "_view_name": "StyleView",
      "description_width": ""
     }
    },
    "eae9b6e6c4a04aa8bd830faace6489a1": {
     "model_module": "@jupyter-widgets/controls",
     "model_module_version": "1.5.0",
     "model_name": "HTMLModel",
     "state": {
      "_dom_classes": [],
      "_model_module": "@jupyter-widgets/controls",
      "_model_module_version": "1.5.0",
      "_model_name": "HTMLModel",
      "_view_count": null,
      "_view_module": "@jupyter-widgets/controls",
      "_view_module_version": "1.5.0",
      "_view_name": "HTMLView",
      "description": "",
      "description_tooltip": null,
      "layout": "IPY_MODEL_951e708d5d4142c8b4afd94ab174c1bd",
      "placeholder": "​",
      "style": "IPY_MODEL_e74d6f2f882141dfb60a9e7dfa9f145b",
      "value": " [100%]   00:02 -&gt; (00:00 left)"
     }
    },
    "ff5eb3534bcc49a98aff7ff3bb18aded": {
     "model_module": "@jupyter-widgets/controls",
     "model_module_version": "1.5.0",
     "model_name": "HBoxModel",
     "state": {
      "_dom_classes": [],
      "_model_module": "@jupyter-widgets/controls",
      "_model_module_version": "1.5.0",
      "_model_name": "HBoxModel",
      "_view_count": null,
      "_view_module": "@jupyter-widgets/controls",
      "_view_module_version": "1.5.0",
      "_view_name": "HBoxView",
      "box_style": "",
      "children": [
       "IPY_MODEL_999870b23f9c4f2f9a89632423ed5385",
       "IPY_MODEL_4e30d9e5fc744d1f844e8bd1a3fcd80e",
       "IPY_MODEL_eae9b6e6c4a04aa8bd830faace6489a1"
      ],
      "layout": "IPY_MODEL_6766bebb8579426a8a4b4c7315f806b7"
     }
    }
   }
  }
 },
 "nbformat": 4,
 "nbformat_minor": 1
}
